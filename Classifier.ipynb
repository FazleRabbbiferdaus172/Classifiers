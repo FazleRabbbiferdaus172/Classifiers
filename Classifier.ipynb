{
  "nbformat": 4,
  "nbformat_minor": 0,
  "metadata": {
    "colab": {
      "name": "Classifier.ipynb",
      "provenance": [],
      "authorship_tag": "ABX9TyO9DNBAHBTVEIuYMHpE8urO",
      "include_colab_link": true
    },
    "kernelspec": {
      "name": "python3",
      "display_name": "Python 3"
    }
  },
  "cells": [
    {
      "cell_type": "markdown",
      "metadata": {
        "id": "view-in-github",
        "colab_type": "text"
      },
      "source": [
        "<a href=\"https://colab.research.google.com/github/FazleRabbbiferdaus172/Classifiers/blob/master/Classifier.ipynb\" target=\"_parent\"><img src=\"https://colab.research.google.com/assets/colab-badge.svg\" alt=\"Open In Colab\"/></a>"
      ]
    },
    {
      "cell_type": "markdown",
      "metadata": {
        "id": "qCz80RlVZpUn",
        "colab_type": "text"
      },
      "source": [
        "#Import Libraries"
      ]
    },
    {
      "cell_type": "code",
      "metadata": {
        "id": "Kdo8qDrUY2pq",
        "colab_type": "code",
        "colab": {}
      },
      "source": [
        "from google.colab import drive\n",
        "import numpy as np\n",
        "import matplotlib.pyplot as plt\n",
        "import pandas as pd\n",
        "from sklearn.model_selection import train_test_split"
      ],
      "execution_count": 2,
      "outputs": []
    },
    {
      "cell_type": "markdown",
      "metadata": {
        "id": "54mvtRJwaA2H",
        "colab_type": "text"
      },
      "source": [
        "#Mount Drive"
      ]
    },
    {
      "cell_type": "code",
      "metadata": {
        "id": "ubOWXkQiZ3D1",
        "colab_type": "code",
        "colab": {
          "base_uri": "https://localhost:8080/",
          "height": 34
        },
        "outputId": "20d43596-7423-4658-ed32-f740bbf2b24e"
      },
      "source": [
        "drive.mount('/content/gdrive')\n",
        "fruit_data_url = '/content/gdrive/My Drive/Data_set/fruit_data_with_colors.txt'\n",
        "bank_note_url = '/content/gdrive/My Drive/Data_set/data_banknote_authentication.txt'\n",
        "zoo_url = '/content/gdrive/My Drive/Data_set/zoo.data'\n",
        "abalone_url = '/content/gdrive/My Drive/Data_set/abalone.data'\n",
        "seed_url = '/content/gdrive/My Drive/Data_set/seeds_dataset.txt'"
      ],
      "execution_count": 30,
      "outputs": [
        {
          "output_type": "stream",
          "text": [
            "Drive already mounted at /content/gdrive; to attempt to forcibly remount, call drive.mount(\"/content/gdrive\", force_remount=True).\n"
          ],
          "name": "stdout"
        }
      ]
    },
    {
      "cell_type": "markdown",
      "metadata": {
        "id": "9gZDY9MsbDBw",
        "colab_type": "text"
      },
      "source": [
        "#Loading Data\n"
      ]
    },
    {
      "cell_type": "code",
      "metadata": {
        "id": "HTomtJCjbG5_",
        "colab_type": "code",
        "colab": {}
      },
      "source": [
        "fruits = pd.read_table(fruit_data_url)\n",
        "banks = pd.read_csv(bank_note_url)\n",
        "zoo = pd.read_csv(zoo_url)\n",
        "abalone = pd.read_csv(abalone_url)\n",
        "seed = pd.read_csv(seed_url,sep='\\t',error_bad_lines=False)\n",
        "#seed.head"
      ],
      "execution_count": null,
      "outputs": []
    },
    {
      "cell_type": "markdown",
      "metadata": {
        "id": "8Iie9VwHmN-q",
        "colab_type": "text"
      },
      "source": [
        "#Adding the missing feature names"
      ]
    },
    {
      "cell_type": "code",
      "metadata": {
        "id": "CFV-JZeymLAQ",
        "colab_type": "code",
        "colab": {}
      },
      "source": [
        "banks.columns = ['variance','skewness','curtosis', 'entropy','class']\n",
        "zoo.columns = ['name', 'hair', 'feathers', 'eggs', 'milk', 'airborne', 'aquatic', 'predator', 'toothed', 'backbone', 'breathes', 'venomous', 'fins', 'legs', 'tail', 'domestic', 'catsize', 'type']\n",
        "abalone.columns = ['Sex' ,'Length' ,'Diameter' ,'Height' ,'Whole weight' ,'Shucked weight' ,'Viscera weight' ,'Shell weight' ,'Rings']\n",
        "seed.columns = ['area', 'perimeter', 'compactness', 'length', 'width', 'asymmetry', 'length', 'type']\n",
        "#banks.head()\n",
        "banks_c = banks.columns[:-1]\n",
        "banks_l = banks.columns[-1]\n",
        "\n",
        "zoo_c = zoo.columns[1:-1]\n",
        "zoo_l = zoo.columns[-1]\n",
        "\n",
        "abalone_c = abalone.columns[:-1]\n",
        "abalone_l = abalone.columns[-1]\n",
        "\n",
        "seed_c = seed.columns[:-1]\n",
        "seed_l = seed.columns[-1]"
      ],
      "execution_count": 64,
      "outputs": []
    },
    {
      "cell_type": "markdown",
      "metadata": {
        "id": "PhJVBTQom14G",
        "colab_type": "text"
      },
      "source": [
        "#Categorical Variables to numerical variables"
      ]
    },
    {
      "cell_type": "code",
      "metadata": {
        "id": "Zjumd0n1m_Bo",
        "colab_type": "code",
        "colab": {
          "base_uri": "https://localhost:8080/",
          "height": 204
        },
        "outputId": "32fd73ec-b580-421b-9849-c5b52c2b093a"
      },
      "source": [
        "from sklearn.preprocessing import LabelEncoder\n",
        "number = LabelEncoder()\n",
        "abalone['Sex'] = number.fit_transform(abalone['Sex'].astype('str'))\n",
        "abalone.head()"
      ],
      "execution_count": 59,
      "outputs": [
        {
          "output_type": "execute_result",
          "data": {
            "text/html": [
              "<div>\n",
              "<style scoped>\n",
              "    .dataframe tbody tr th:only-of-type {\n",
              "        vertical-align: middle;\n",
              "    }\n",
              "\n",
              "    .dataframe tbody tr th {\n",
              "        vertical-align: top;\n",
              "    }\n",
              "\n",
              "    .dataframe thead th {\n",
              "        text-align: right;\n",
              "    }\n",
              "</style>\n",
              "<table border=\"1\" class=\"dataframe\">\n",
              "  <thead>\n",
              "    <tr style=\"text-align: right;\">\n",
              "      <th></th>\n",
              "      <th>Sex</th>\n",
              "      <th>Length</th>\n",
              "      <th>Diameter</th>\n",
              "      <th>Height</th>\n",
              "      <th>Whole weight</th>\n",
              "      <th>Shucked weight</th>\n",
              "      <th>Viscera weight</th>\n",
              "      <th>Shell weight</th>\n",
              "      <th>Rings</th>\n",
              "    </tr>\n",
              "  </thead>\n",
              "  <tbody>\n",
              "    <tr>\n",
              "      <th>0</th>\n",
              "      <td>2</td>\n",
              "      <td>0.350</td>\n",
              "      <td>0.265</td>\n",
              "      <td>0.090</td>\n",
              "      <td>0.2255</td>\n",
              "      <td>0.0995</td>\n",
              "      <td>0.0485</td>\n",
              "      <td>0.070</td>\n",
              "      <td>7</td>\n",
              "    </tr>\n",
              "    <tr>\n",
              "      <th>1</th>\n",
              "      <td>0</td>\n",
              "      <td>0.530</td>\n",
              "      <td>0.420</td>\n",
              "      <td>0.135</td>\n",
              "      <td>0.6770</td>\n",
              "      <td>0.2565</td>\n",
              "      <td>0.1415</td>\n",
              "      <td>0.210</td>\n",
              "      <td>9</td>\n",
              "    </tr>\n",
              "    <tr>\n",
              "      <th>2</th>\n",
              "      <td>2</td>\n",
              "      <td>0.440</td>\n",
              "      <td>0.365</td>\n",
              "      <td>0.125</td>\n",
              "      <td>0.5160</td>\n",
              "      <td>0.2155</td>\n",
              "      <td>0.1140</td>\n",
              "      <td>0.155</td>\n",
              "      <td>10</td>\n",
              "    </tr>\n",
              "    <tr>\n",
              "      <th>3</th>\n",
              "      <td>1</td>\n",
              "      <td>0.330</td>\n",
              "      <td>0.255</td>\n",
              "      <td>0.080</td>\n",
              "      <td>0.2050</td>\n",
              "      <td>0.0895</td>\n",
              "      <td>0.0395</td>\n",
              "      <td>0.055</td>\n",
              "      <td>7</td>\n",
              "    </tr>\n",
              "    <tr>\n",
              "      <th>4</th>\n",
              "      <td>1</td>\n",
              "      <td>0.425</td>\n",
              "      <td>0.300</td>\n",
              "      <td>0.095</td>\n",
              "      <td>0.3515</td>\n",
              "      <td>0.1410</td>\n",
              "      <td>0.0775</td>\n",
              "      <td>0.120</td>\n",
              "      <td>8</td>\n",
              "    </tr>\n",
              "  </tbody>\n",
              "</table>\n",
              "</div>"
            ],
            "text/plain": [
              "   Sex  Length  Diameter  ...  Viscera weight  Shell weight  Rings\n",
              "0    2   0.350     0.265  ...          0.0485         0.070      7\n",
              "1    0   0.530     0.420  ...          0.1415         0.210      9\n",
              "2    2   0.440     0.365  ...          0.1140         0.155     10\n",
              "3    1   0.330     0.255  ...          0.0395         0.055      7\n",
              "4    1   0.425     0.300  ...          0.0775         0.120      8\n",
              "\n",
              "[5 rows x 9 columns]"
            ]
          },
          "metadata": {
            "tags": []
          },
          "execution_count": 59
        }
      ]
    },
    {
      "cell_type": "markdown",
      "metadata": {
        "id": "YdEfEpT0db1t",
        "colab_type": "text"
      },
      "source": [
        "#Creating a mapping from label value to class name"
      ]
    },
    {
      "cell_type": "code",
      "metadata": {
        "id": "1eYEAr9Fdj_U",
        "colab_type": "code",
        "colab": {}
      },
      "source": [
        "lookup_fruit_name = dict(zip(fruits.fruit_label.unique(), fruits.fruit_name.unique()))\n",
        "lookup_fruit_name"
      ],
      "execution_count": null,
      "outputs": []
    },
    {
      "cell_type": "markdown",
      "metadata": {
        "id": "vZmuRbJLe3LI",
        "colab_type": "text"
      },
      "source": [
        "#Spliting training and test data"
      ]
    },
    {
      "cell_type": "code",
      "metadata": {
        "id": "0FBr7W5De9bt",
        "colab_type": "code",
        "colab": {}
      },
      "source": [
        "fruits_X = fruits[['height', 'width', 'mass', 'color_score']]\n",
        "fruits_y = fruits['fruit_label']\n",
        "fruits_X_train, fruits_X_test, fruits_y_train, fruits_y_test = train_test_split(fruits_X, fruits_y, random_state=0)\n",
        "\n",
        "\n",
        "banks_X = banks[banks_c]\n",
        "banks_y = banks[banks_l]\n",
        "banks_X_train, banks_X_test, banks_y_train, banks_y_test = train_test_split(banks_X, banks_y, random_state=0)\n",
        "\n",
        "zoo_X = zoo[zoo_c]\n",
        "zoo_y = zoo[zoo_l]\n",
        "zoo_X_train, zoo_X_test, zoo_y_train, zoo_y_test = train_test_split(zoo_X, zoo_y, random_state=0)\n",
        "\n",
        "abalone_X = abalone[abalone_c]\n",
        "abalone_y = abalone[abalone_l]\n",
        "abalone_X_train, abalone_X_test, abalone_y_train, abalone_y_test = train_test_split(abalone_X, abalone_y, random_state = 0)\n",
        "\n",
        "seed_X = seed[seed_c]\n",
        "seed_y = seed[seed_l]\n",
        "seed_X_tarin, seed_X_test, seed_y_train, seed_y_test = train_test_split(seed_X,seed_y, random_state=0)"
      ],
      "execution_count": 65,
      "outputs": []
    },
    {
      "cell_type": "markdown",
      "metadata": {
        "id": "IdPmSYqojORg",
        "colab_type": "text"
      },
      "source": [
        "#2D DATA visualization"
      ]
    },
    {
      "cell_type": "code",
      "metadata": {
        "id": "-ERNg2VOjY-M",
        "colab_type": "code",
        "colab": {}
      },
      "source": [
        "from matplotlib import cm\n",
        "from pandas.plotting import scatter_matrix\n",
        "cmap = cm.get_cmap('gnuplot')\n",
        "#scatter = scatter_matrix(fruits_X_train, c = fruits_y_train, marker = 'o', s=40, hist_kwds={'bins':15}, figsize=(9,9),cmap=cmap)\n",
        "scatter = scatter_matrix(banks_X_train, c = banks_y_train, marker = 'o', s=40, hist_kwds={'bins':15}, figsize=(9,9),cmap=cmap)"
      ],
      "execution_count": null,
      "outputs": []
    },
    {
      "cell_type": "markdown",
      "metadata": {
        "id": "Q_CPh1nAk9eX",
        "colab_type": "text"
      },
      "source": [
        "#3D DATA VISUALIZATION"
      ]
    },
    {
      "cell_type": "code",
      "metadata": {
        "id": "J4orYa8rlDBT",
        "colab_type": "code",
        "colab": {}
      },
      "source": [
        "from mpl_toolkits.mplot3d import Axes3D\n",
        "\n",
        "fig = plt.figure()\n",
        "ax = fig.add_subplot(111, projection = '3d')\n",
        "ax.scatter(fruits_X_train['width'], fruits_X_train['height'], fruits_X_train['color_score'], c = fruits_y_train,marker = 'o', s=100)\n",
        "ax.set_xlabel('width')\n",
        "ax.set_ylabel('height')\n",
        "ax.set_zlabel('color_score')\n",
        "plt.show()"
      ],
      "execution_count": null,
      "outputs": []
    },
    {
      "cell_type": "markdown",
      "metadata": {
        "id": "ujsRhYrxVQLW",
        "colab_type": "text"
      },
      "source": [
        "#Create classifier object"
      ]
    },
    {
      "cell_type": "code",
      "metadata": {
        "id": "rOIGzJZ9Vaua",
        "colab_type": "code",
        "colab": {}
      },
      "source": [
        "from sklearn.neighbors import KNeighborsClassifier\n",
        "\n",
        "f_knn = KNeighborsClassifier(n_neighbors=3)\n",
        "b_knn = KNeighborsClassifier(n_neighbors=3)\n",
        "z_knn = KNeighborsClassifier(n_neighbors=3)\n",
        "a_knn = KNeighborsClassifier(n_neighbors=12)\n",
        "s_knn = KNeighborsClassifier(n_neighbors=5)"
      ],
      "execution_count": 71,
      "outputs": []
    },
    {
      "cell_type": "markdown",
      "metadata": {
        "id": "4SsvzuJxZ05c",
        "colab_type": "text"
      },
      "source": [
        "#Training the classifier"
      ]
    },
    {
      "cell_type": "code",
      "metadata": {
        "id": "IGVa7ZWhZ6Cr",
        "colab_type": "code",
        "colab": {
          "base_uri": "https://localhost:8080/",
          "height": 68
        },
        "outputId": "c4c12e1f-6970-45b1-d85f-47779513a1fe"
      },
      "source": [
        "f_knn.fit(fruits_X_train,fruits_y_train)"
      ],
      "execution_count": 14,
      "outputs": [
        {
          "output_type": "execute_result",
          "data": {
            "text/plain": [
              "KNeighborsClassifier(algorithm='auto', leaf_size=30, metric='minkowski',\n",
              "                     metric_params=None, n_jobs=None, n_neighbors=3, p=2,\n",
              "                     weights='uniform')"
            ]
          },
          "metadata": {
            "tags": []
          },
          "execution_count": 14
        }
      ]
    },
    {
      "cell_type": "code",
      "metadata": {
        "id": "__e3cPjpuhWe",
        "colab_type": "code",
        "colab": {
          "base_uri": "https://localhost:8080/",
          "height": 68
        },
        "outputId": "ac2ae510-6af8-4a4b-f961-781294f7a3e9"
      },
      "source": [
        "b_knn.fit(banks_X_train,banks_y_train)"
      ],
      "execution_count": 16,
      "outputs": [
        {
          "output_type": "execute_result",
          "data": {
            "text/plain": [
              "KNeighborsClassifier(algorithm='auto', leaf_size=30, metric='minkowski',\n",
              "                     metric_params=None, n_jobs=None, n_neighbors=3, p=2,\n",
              "                     weights='uniform')"
            ]
          },
          "metadata": {
            "tags": []
          },
          "execution_count": 16
        }
      ]
    },
    {
      "cell_type": "code",
      "metadata": {
        "id": "pvUrhqhz6der",
        "colab_type": "code",
        "colab": {
          "base_uri": "https://localhost:8080/",
          "height": 68
        },
        "outputId": "30341cce-bc93-4979-c52b-c667af132541"
      },
      "source": [
        "z_knn.fit(zoo_X_train,zoo_y_train)"
      ],
      "execution_count": 18,
      "outputs": [
        {
          "output_type": "execute_result",
          "data": {
            "text/plain": [
              "KNeighborsClassifier(algorithm='auto', leaf_size=30, metric='minkowski',\n",
              "                     metric_params=None, n_jobs=None, n_neighbors=3, p=2,\n",
              "                     weights='uniform')"
            ]
          },
          "metadata": {
            "tags": []
          },
          "execution_count": 18
        }
      ]
    },
    {
      "cell_type": "code",
      "metadata": {
        "id": "d1Qdr-8WqrXt",
        "colab_type": "code",
        "colab": {
          "base_uri": "https://localhost:8080/",
          "height": 68
        },
        "outputId": "c6163d05-04ff-4176-9f2b-3084c1e68089"
      },
      "source": [
        "a_knn.fit(abalone_X_train,abalone_y_train)"
      ],
      "execution_count": 26,
      "outputs": [
        {
          "output_type": "execute_result",
          "data": {
            "text/plain": [
              "KNeighborsClassifier(algorithm='auto', leaf_size=30, metric='minkowski',\n",
              "                     metric_params=None, n_jobs=None, n_neighbors=12, p=2,\n",
              "                     weights='uniform')"
            ]
          },
          "metadata": {
            "tags": []
          },
          "execution_count": 26
        }
      ]
    },
    {
      "cell_type": "code",
      "metadata": {
        "id": "WV-COHAL7HF5",
        "colab_type": "code",
        "colab": {
          "base_uri": "https://localhost:8080/",
          "height": 68
        },
        "outputId": "87531bc7-7166-400c-805b-e61deec66099"
      },
      "source": [
        "s_knn.fit(seed_X_tarin,seed_y_train)"
      ],
      "execution_count": 72,
      "outputs": [
        {
          "output_type": "execute_result",
          "data": {
            "text/plain": [
              "KNeighborsClassifier(algorithm='auto', leaf_size=30, metric='minkowski',\n",
              "                     metric_params=None, n_jobs=None, n_neighbors=5, p=2,\n",
              "                     weights='uniform')"
            ]
          },
          "metadata": {
            "tags": []
          },
          "execution_count": 72
        }
      ]
    },
    {
      "cell_type": "markdown",
      "metadata": {
        "id": "GhaSaT6fae5I",
        "colab_type": "text"
      },
      "source": [
        "#Accuracy of classifier using test set"
      ]
    },
    {
      "cell_type": "code",
      "metadata": {
        "id": "guRfI3PQaqlE",
        "colab_type": "code",
        "colab": {
          "base_uri": "https://localhost:8080/",
          "height": 34
        },
        "outputId": "c1c0c5d7-d8b1-40a7-f002-c75aa221ed66"
      },
      "source": [
        "f_knn.score(fruits_X_test,fruits_y_test)"
      ],
      "execution_count": 15,
      "outputs": [
        {
          "output_type": "execute_result",
          "data": {
            "text/plain": [
              "0.5333333333333333"
            ]
          },
          "metadata": {
            "tags": []
          },
          "execution_count": 15
        }
      ]
    },
    {
      "cell_type": "code",
      "metadata": {
        "id": "jyQraxpYuqIe",
        "colab_type": "code",
        "colab": {
          "base_uri": "https://localhost:8080/",
          "height": 34
        },
        "outputId": "abd7a5b7-6a58-4629-f80a-38d09a9ae58b"
      },
      "source": [
        "b_knn.score(banks_X_test,banks_y_test)"
      ],
      "execution_count": 17,
      "outputs": [
        {
          "output_type": "execute_result",
          "data": {
            "text/plain": [
              "1.0"
            ]
          },
          "metadata": {
            "tags": []
          },
          "execution_count": 17
        }
      ]
    },
    {
      "cell_type": "code",
      "metadata": {
        "id": "kkfPZjry6pmu",
        "colab_type": "code",
        "colab": {
          "base_uri": "https://localhost:8080/",
          "height": 34
        },
        "outputId": "2d5fb81d-38b2-4231-d714-4d352d08e6e6"
      },
      "source": [
        "z_knn.score(zoo_X_test,zoo_y_test)"
      ],
      "execution_count": 19,
      "outputs": [
        {
          "output_type": "execute_result",
          "data": {
            "text/plain": [
              "0.92"
            ]
          },
          "metadata": {
            "tags": []
          },
          "execution_count": 19
        }
      ]
    },
    {
      "cell_type": "code",
      "metadata": {
        "id": "z8OK1-O7q0QE",
        "colab_type": "code",
        "colab": {
          "base_uri": "https://localhost:8080/",
          "height": 34
        },
        "outputId": "aef65a7f-ed69-4bd1-9716-86ae382a9d75"
      },
      "source": [
        "a_knn.score(abalone_X_test,abalone_y_test)"
      ],
      "execution_count": 27,
      "outputs": [
        {
          "output_type": "execute_result",
          "data": {
            "text/plain": [
              "0.2768199233716475"
            ]
          },
          "metadata": {
            "tags": []
          },
          "execution_count": 27
        }
      ]
    },
    {
      "cell_type": "code",
      "metadata": {
        "id": "oKZQnxm97Rj7",
        "colab_type": "code",
        "colab": {
          "base_uri": "https://localhost:8080/",
          "height": 34
        },
        "outputId": "59efaeba-1157-4c6b-fd11-5a4fb40952cd"
      },
      "source": [
        "s_knn.score(seed_X_test,seed_y_test)"
      ],
      "execution_count": 73,
      "outputs": [
        {
          "output_type": "execute_result",
          "data": {
            "text/plain": [
              "0.96"
            ]
          },
          "metadata": {
            "tags": []
          },
          "execution_count": 73
        }
      ]
    },
    {
      "cell_type": "markdown",
      "metadata": {
        "id": "VIK_f0cGb4tj",
        "colab_type": "text"
      },
      "source": [
        "#How sensitive is k-NN classification accuracy to the choice of the 'k' parameter?"
      ]
    },
    {
      "cell_type": "code",
      "metadata": {
        "id": "I0Ab3To8b6fu",
        "colab_type": "code",
        "colab": {
          "base_uri": "https://localhost:8080/",
          "height": 483
        },
        "outputId": "d0ce45e5-67fd-4e24-dc34-2905d62432cb"
      },
      "source": [
        "k_range = range(1,50)\n",
        "scores = []\n",
        "for k in k_range:\n",
        "    knn = KNeighborsClassifier(n_neighbors=k)\n",
        "    knn.fit(seed_X_tarin, seed_y_train)\n",
        "    scores.append(knn.score(seed_X_test,seed_y_test)*100)\n",
        "\n",
        "plt.figure()\n",
        "plt.xlabel('k')\n",
        "plt.ylabel('accuracy')\n",
        "plt.scatter(k_range, scores)\n",
        "plt.xticks([int(x) for x in range(0,51,5)])"
      ],
      "execution_count": 70,
      "outputs": [
        {
          "output_type": "execute_result",
          "data": {
            "text/plain": [
              "([<matplotlib.axis.XTick at 0x7f338b331898>,\n",
              "  <matplotlib.axis.XTick at 0x7f338b331e80>,\n",
              "  <matplotlib.axis.XTick at 0x7f3387468dd8>,\n",
              "  <matplotlib.axis.XTick at 0x7f3387485710>,\n",
              "  <matplotlib.axis.XTick at 0x7f33874852b0>,\n",
              "  <matplotlib.axis.XTick at 0x7f338a5deb70>,\n",
              "  <matplotlib.axis.XTick at 0x7f3385c10550>,\n",
              "  <matplotlib.axis.XTick at 0x7f3385c109e8>,\n",
              "  <matplotlib.axis.XTick at 0x7f3385c10e80>,\n",
              "  <matplotlib.axis.XTick at 0x7f3385bba358>,\n",
              "  <matplotlib.axis.XTick at 0x7f3385bba7f0>],\n",
              " <a list of 11 Text major ticklabel objects>)"
            ]
          },
          "metadata": {
            "tags": []
          },
          "execution_count": 70
        },
        {
          "output_type": "display_data",
          "data": {
            "image/png": "[encoded data removed]",
            "text/plain": [
              "<Figure size 432x288 with 1 Axes>"
            ]
          },
          "metadata": {
            "tags": [],
            "needs_background": "light"
          }
        }
      ]
    }
  ]
}