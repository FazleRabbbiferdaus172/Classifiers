{
  "nbformat": 4,
  "nbformat_minor": 0,
  "metadata": {
    "colab": {
      "name": "Classifier.ipynb",
      "provenance": [],
      "collapsed_sections": [
        "PhJVBTQom14G",
        "YdEfEpT0db1t",
        "IdPmSYqojORg",
        "Q_CPh1nAk9eX",
        "ujsRhYrxVQLW",
        "4SsvzuJxZ05c",
        "GhaSaT6fae5I",
        "fHF96LPNSbdI",
        "Ms6j6HZ3AREp"
      ],
      "authorship_tag": "ABX9TyMPxqEplvuH/lResKBWhOAI",
      "include_colab_link": true
    },
    "kernelspec": {
      "name": "python3",
      "display_name": "Python 3"
    }
  },
  "cells": [
    {
      "cell_type": "markdown",
      "metadata": {
        "id": "view-in-github",
        "colab_type": "text"
      },
      "source": [
        "<a href=\"https://colab.research.google.com/github/FazleRabbbiferdaus172/Classifiers/blob/master/Classifier.ipynb\" target=\"_parent\"><img src=\"https://colab.research.google.com/assets/colab-badge.svg\" alt=\"Open In Colab\"/></a>"
      ]
    },
    {
      "cell_type": "markdown",
      "metadata": {
        "id": "qCz80RlVZpUn",
        "colab_type": "text"
      },
      "source": [
        "#Import Libraries"
      ]
    },
    {
      "cell_type": "code",
      "metadata": {
        "id": "Kdo8qDrUY2pq",
        "colab_type": "code",
        "colab": {}
      },
      "source": [
        "from google.colab import drive\n",
        "import numpy as np\n",
        "import matplotlib.pyplot as plt\n",
        "import pandas as pd\n",
        "from sklearn.model_selection import train_test_split"
      ],
      "execution_count": 78,
      "outputs": []
    },
    {
      "cell_type": "markdown",
      "metadata": {
        "id": "54mvtRJwaA2H",
        "colab_type": "text"
      },
      "source": [
        "#Mount Drive"
      ]
    },
    {
      "cell_type": "code",
      "metadata": {
        "id": "ubOWXkQiZ3D1",
        "colab_type": "code",
        "colab": {
          "base_uri": "https://localhost:8080/",
          "height": 54
        },
        "outputId": "faa6f0a4-551b-4683-bbc2-29bbaee36b73"
      },
      "source": [
        "drive.mount('/content/gdrive')\n",
        "fruit_data_url = '/content/gdrive/My Drive/Data_set/fruit_data_with_colors.txt'\n",
        "bank_note_url = '/content/gdrive/My Drive/Data_set/data_banknote_authentication.txt'\n",
        "zoo_url = '/content/gdrive/My Drive/Data_set/zoo.data'\n",
        "abalone_url = '/content/gdrive/My Drive/Data_set/abalone.data'\n",
        "seed_url = '/content/gdrive/My Drive/Data_set/seeds_dataset.txt'"
      ],
      "execution_count": 79,
      "outputs": [
        {
          "output_type": "stream",
          "text": [
            "Drive already mounted at /content/gdrive; to attempt to forcibly remount, call drive.mount(\"/content/gdrive\", force_remount=True).\n"
          ],
          "name": "stdout"
        }
      ]
    },
    {
      "cell_type": "markdown",
      "metadata": {
        "id": "9gZDY9MsbDBw",
        "colab_type": "text"
      },
      "source": [
        "#Loading Data\n"
      ]
    },
    {
      "cell_type": "code",
      "metadata": {
        "id": "HTomtJCjbG5_",
        "colab_type": "code",
        "colab": {
          "base_uri": "https://localhost:8080/",
          "height": 241
        },
        "outputId": "176f0035-f19f-40c7-a947-857b8c617b80"
      },
      "source": [
        "b_columns = ['variance','skewness','curtosis', 'entropy','class']\n",
        "z_columns = ['name', 'hair', 'feathers', 'eggs', 'milk', 'airborne', 'aquatic', 'predator', 'toothed', 'backbone', 'breathes', 'venomous', 'fins', 'legs', 'tail', 'domestic', 'catsize', 'type']\n",
        "a_columns = ['Sex' ,'Length' ,'Diameter' ,'Height' ,'Whole weight' ,'Shucked weight' ,'Viscera weight' ,'Shell weight' ,'Rings']\n",
        "#s_columns = ['area', 'perimeter', 'compactness', 'length', 'width', 'asymmetry', 'length', 'type']\n",
        "fruits = pd.read_table(fruit_data_url)\n",
        "banks = pd.read_csv(bank_note_url,names=b_columns)\n",
        "zoo = pd.read_csv(zoo_url,names=z_columns)\n",
        "abalone = pd.read_csv(abalone_url,names=a_columns)\n",
        "seed = pd.read_csv(seed_url,sep='\\t',error_bad_lines=False)\n",
        "zoo.head()\n",
        "#seed = pd.read_csv(seed_url)\n",
        "#seed.head()\n",
        "#abalone.head()"
      ],
      "execution_count": 9,
      "outputs": [
        {
          "output_type": "stream",
          "text": [
            "b'Skipping line 8: expected 8 fields, saw 10\\nSkipping line 36: expected 8 fields, saw 10\\nSkipping line 61: expected 8 fields, saw 9\\nSkipping line 69: expected 8 fields, saw 9\\nSkipping line 107: expected 8 fields, saw 9\\nSkipping line 136: expected 8 fields, saw 9\\nSkipping line 170: expected 8 fields, saw 9\\nSkipping line 171: expected 8 fields, saw 9\\nSkipping line 173: expected 8 fields, saw 9\\nSkipping line 202: expected 8 fields, saw 9\\nSkipping line 204: expected 8 fields, saw 9\\n'\n"
          ],
          "name": "stderr"
        },
        {
          "output_type": "execute_result",
          "data": {
            "text/html": [
              "<div>\n",
              "<style scoped>\n",
              "    .dataframe tbody tr th:only-of-type {\n",
              "        vertical-align: middle;\n",
              "    }\n",
              "\n",
              "    .dataframe tbody tr th {\n",
              "        vertical-align: top;\n",
              "    }\n",
              "\n",
              "    .dataframe thead th {\n",
              "        text-align: right;\n",
              "    }\n",
              "</style>\n",
              "<table border=\"1\" class=\"dataframe\">\n",
              "  <thead>\n",
              "    <tr style=\"text-align: right;\">\n",
              "      <th></th>\n",
              "      <th>name</th>\n",
              "      <th>hair</th>\n",
              "      <th>feathers</th>\n",
              "      <th>eggs</th>\n",
              "      <th>milk</th>\n",
              "      <th>airborne</th>\n",
              "      <th>aquatic</th>\n",
              "      <th>predator</th>\n",
              "      <th>toothed</th>\n",
              "      <th>backbone</th>\n",
              "      <th>breathes</th>\n",
              "      <th>venomous</th>\n",
              "      <th>fins</th>\n",
              "      <th>legs</th>\n",
              "      <th>tail</th>\n",
              "      <th>domestic</th>\n",
              "      <th>catsize</th>\n",
              "      <th>type</th>\n",
              "    </tr>\n",
              "  </thead>\n",
              "  <tbody>\n",
              "    <tr>\n",
              "      <th>0</th>\n",
              "      <td>aardvark</td>\n",
              "      <td>1</td>\n",
              "      <td>0</td>\n",
              "      <td>0</td>\n",
              "      <td>1</td>\n",
              "      <td>0</td>\n",
              "      <td>0</td>\n",
              "      <td>1</td>\n",
              "      <td>1</td>\n",
              "      <td>1</td>\n",
              "      <td>1</td>\n",
              "      <td>0</td>\n",
              "      <td>0</td>\n",
              "      <td>4</td>\n",
              "      <td>0</td>\n",
              "      <td>0</td>\n",
              "      <td>1</td>\n",
              "      <td>1</td>\n",
              "    </tr>\n",
              "    <tr>\n",
              "      <th>1</th>\n",
              "      <td>antelope</td>\n",
              "      <td>1</td>\n",
              "      <td>0</td>\n",
              "      <td>0</td>\n",
              "      <td>1</td>\n",
              "      <td>0</td>\n",
              "      <td>0</td>\n",
              "      <td>0</td>\n",
              "      <td>1</td>\n",
              "      <td>1</td>\n",
              "      <td>1</td>\n",
              "      <td>0</td>\n",
              "      <td>0</td>\n",
              "      <td>4</td>\n",
              "      <td>1</td>\n",
              "      <td>0</td>\n",
              "      <td>1</td>\n",
              "      <td>1</td>\n",
              "    </tr>\n",
              "    <tr>\n",
              "      <th>2</th>\n",
              "      <td>bass</td>\n",
              "      <td>0</td>\n",
              "      <td>0</td>\n",
              "      <td>1</td>\n",
              "      <td>0</td>\n",
              "      <td>0</td>\n",
              "      <td>1</td>\n",
              "      <td>1</td>\n",
              "      <td>1</td>\n",
              "      <td>1</td>\n",
              "      <td>0</td>\n",
              "      <td>0</td>\n",
              "      <td>1</td>\n",
              "      <td>0</td>\n",
              "      <td>1</td>\n",
              "      <td>0</td>\n",
              "      <td>0</td>\n",
              "      <td>4</td>\n",
              "    </tr>\n",
              "    <tr>\n",
              "      <th>3</th>\n",
              "      <td>bear</td>\n",
              "      <td>1</td>\n",
              "      <td>0</td>\n",
              "      <td>0</td>\n",
              "      <td>1</td>\n",
              "      <td>0</td>\n",
              "      <td>0</td>\n",
              "      <td>1</td>\n",
              "      <td>1</td>\n",
              "      <td>1</td>\n",
              "      <td>1</td>\n",
              "      <td>0</td>\n",
              "      <td>0</td>\n",
              "      <td>4</td>\n",
              "      <td>0</td>\n",
              "      <td>0</td>\n",
              "      <td>1</td>\n",
              "      <td>1</td>\n",
              "    </tr>\n",
              "    <tr>\n",
              "      <th>4</th>\n",
              "      <td>boar</td>\n",
              "      <td>1</td>\n",
              "      <td>0</td>\n",
              "      <td>0</td>\n",
              "      <td>1</td>\n",
              "      <td>0</td>\n",
              "      <td>0</td>\n",
              "      <td>1</td>\n",
              "      <td>1</td>\n",
              "      <td>1</td>\n",
              "      <td>1</td>\n",
              "      <td>0</td>\n",
              "      <td>0</td>\n",
              "      <td>4</td>\n",
              "      <td>1</td>\n",
              "      <td>0</td>\n",
              "      <td>1</td>\n",
              "      <td>1</td>\n",
              "    </tr>\n",
              "  </tbody>\n",
              "</table>\n",
              "</div>"
            ],
            "text/plain": [
              "       name  hair  feathers  eggs  milk  ...  legs  tail  domestic  catsize  type\n",
              "0  aardvark     1         0     0     1  ...     4     0         0        1     1\n",
              "1  antelope     1         0     0     1  ...     4     1         0        1     1\n",
              "2      bass     0         0     1     0  ...     0     1         0        0     4\n",
              "3      bear     1         0     0     1  ...     4     0         0        1     1\n",
              "4      boar     1         0     0     1  ...     4     1         0        1     1\n",
              "\n",
              "[5 rows x 18 columns]"
            ]
          },
          "metadata": {
            "tags": []
          },
          "execution_count": 9
        }
      ]
    },
    {
      "cell_type": "markdown",
      "metadata": {
        "id": "8Iie9VwHmN-q",
        "colab_type": "text"
      },
      "source": [
        "#Adding the missing feature names"
      ]
    },
    {
      "cell_type": "code",
      "metadata": {
        "id": "CFV-JZeymLAQ",
        "colab_type": "code",
        "colab": {}
      },
      "source": [
        "#banks.columns = ['variance','skewness','curtosis', 'entropy','class']\n",
        "#zoo.columns = ['name', 'hair', 'feathers', 'eggs', 'milk', 'airborne', 'aquatic', 'predator', 'toothed', 'backbone', 'breathes', 'venomous', 'fins', 'legs', 'tail', 'domestic', 'catsize', 'type']\n",
        "#abalone.columns = ['Sex' ,'Length' ,'Diameter' ,'Height' ,'Whole weight' ,'Shucked weight' ,'Viscera weight' ,'Shell weight' ,'Rings']\n",
        "seed.columns = ['area', 'perimeter', 'compactness', 'length', 'width', 'asymmetry', 'length', 'type']\n",
        "#banks.head()\n",
        "banks_c = banks.columns[:-1]\n",
        "banks_l = banks.columns[-1]\n",
        "\n",
        "zoo_c = zoo.columns[1:-1]\n",
        "zoo_l = zoo.columns[-1]\n",
        "\n",
        "abalone_c = abalone.columns[:-1]\n",
        "abalone_l = abalone.columns[-1]\n",
        "\n",
        "seed_c = seed.columns[:-1]\n",
        "seed_l = seed.columns[-1]"
      ],
      "execution_count": 10,
      "outputs": []
    },
    {
      "cell_type": "markdown",
      "metadata": {
        "id": "PhJVBTQom14G",
        "colab_type": "text"
      },
      "source": [
        "#Categorical Variables to numerical variables"
      ]
    },
    {
      "cell_type": "code",
      "metadata": {
        "id": "Zjumd0n1m_Bo",
        "colab_type": "code",
        "colab": {
          "base_uri": "https://localhost:8080/",
          "height": 221
        },
        "outputId": "07ff360b-b247-43fc-e298-7d0f268d97e9"
      },
      "source": [
        "from sklearn.preprocessing import LabelEncoder\n",
        "number = LabelEncoder()\n",
        "abalone['Sex'] = number.fit_transform(abalone['Sex'].astype('str'))\n",
        "abalone.head()"
      ],
      "execution_count": 11,
      "outputs": [
        {
          "output_type": "execute_result",
          "data": {
            "text/html": [
              "<div>\n",
              "<style scoped>\n",
              "    .dataframe tbody tr th:only-of-type {\n",
              "        vertical-align: middle;\n",
              "    }\n",
              "\n",
              "    .dataframe tbody tr th {\n",
              "        vertical-align: top;\n",
              "    }\n",
              "\n",
              "    .dataframe thead th {\n",
              "        text-align: right;\n",
              "    }\n",
              "</style>\n",
              "<table border=\"1\" class=\"dataframe\">\n",
              "  <thead>\n",
              "    <tr style=\"text-align: right;\">\n",
              "      <th></th>\n",
              "      <th>Sex</th>\n",
              "      <th>Length</th>\n",
              "      <th>Diameter</th>\n",
              "      <th>Height</th>\n",
              "      <th>Whole weight</th>\n",
              "      <th>Shucked weight</th>\n",
              "      <th>Viscera weight</th>\n",
              "      <th>Shell weight</th>\n",
              "      <th>Rings</th>\n",
              "    </tr>\n",
              "  </thead>\n",
              "  <tbody>\n",
              "    <tr>\n",
              "      <th>0</th>\n",
              "      <td>2</td>\n",
              "      <td>0.455</td>\n",
              "      <td>0.365</td>\n",
              "      <td>0.095</td>\n",
              "      <td>0.5140</td>\n",
              "      <td>0.2245</td>\n",
              "      <td>0.1010</td>\n",
              "      <td>0.150</td>\n",
              "      <td>15</td>\n",
              "    </tr>\n",
              "    <tr>\n",
              "      <th>1</th>\n",
              "      <td>2</td>\n",
              "      <td>0.350</td>\n",
              "      <td>0.265</td>\n",
              "      <td>0.090</td>\n",
              "      <td>0.2255</td>\n",
              "      <td>0.0995</td>\n",
              "      <td>0.0485</td>\n",
              "      <td>0.070</td>\n",
              "      <td>7</td>\n",
              "    </tr>\n",
              "    <tr>\n",
              "      <th>2</th>\n",
              "      <td>0</td>\n",
              "      <td>0.530</td>\n",
              "      <td>0.420</td>\n",
              "      <td>0.135</td>\n",
              "      <td>0.6770</td>\n",
              "      <td>0.2565</td>\n",
              "      <td>0.1415</td>\n",
              "      <td>0.210</td>\n",
              "      <td>9</td>\n",
              "    </tr>\n",
              "    <tr>\n",
              "      <th>3</th>\n",
              "      <td>2</td>\n",
              "      <td>0.440</td>\n",
              "      <td>0.365</td>\n",
              "      <td>0.125</td>\n",
              "      <td>0.5160</td>\n",
              "      <td>0.2155</td>\n",
              "      <td>0.1140</td>\n",
              "      <td>0.155</td>\n",
              "      <td>10</td>\n",
              "    </tr>\n",
              "    <tr>\n",
              "      <th>4</th>\n",
              "      <td>1</td>\n",
              "      <td>0.330</td>\n",
              "      <td>0.255</td>\n",
              "      <td>0.080</td>\n",
              "      <td>0.2050</td>\n",
              "      <td>0.0895</td>\n",
              "      <td>0.0395</td>\n",
              "      <td>0.055</td>\n",
              "      <td>7</td>\n",
              "    </tr>\n",
              "  </tbody>\n",
              "</table>\n",
              "</div>"
            ],
            "text/plain": [
              "   Sex  Length  Diameter  ...  Viscera weight  Shell weight  Rings\n",
              "0    2   0.455     0.365  ...          0.1010         0.150     15\n",
              "1    2   0.350     0.265  ...          0.0485         0.070      7\n",
              "2    0   0.530     0.420  ...          0.1415         0.210      9\n",
              "3    2   0.440     0.365  ...          0.1140         0.155     10\n",
              "4    1   0.330     0.255  ...          0.0395         0.055      7\n",
              "\n",
              "[5 rows x 9 columns]"
            ]
          },
          "metadata": {
            "tags": []
          },
          "execution_count": 11
        }
      ]
    },
    {
      "cell_type": "markdown",
      "metadata": {
        "id": "YdEfEpT0db1t",
        "colab_type": "text"
      },
      "source": [
        "#Creating a mapping from label value to class name"
      ]
    },
    {
      "cell_type": "code",
      "metadata": {
        "id": "1eYEAr9Fdj_U",
        "colab_type": "code",
        "colab": {
          "base_uri": "https://localhost:8080/",
          "height": 34
        },
        "outputId": "9e990654-a9e7-49fc-d67d-6ef302595c78"
      },
      "source": [
        "lookup_fruit_name = dict(zip(fruits.fruit_label.unique(), fruits.fruit_name.unique()))\n",
        "lookup_fruit_name"
      ],
      "execution_count": 12,
      "outputs": [
        {
          "output_type": "execute_result",
          "data": {
            "text/plain": [
              "{1: 'apple', 2: 'mandarin', 3: 'orange', 4: 'lemon'}"
            ]
          },
          "metadata": {
            "tags": []
          },
          "execution_count": 12
        }
      ]
    },
    {
      "cell_type": "markdown",
      "metadata": {
        "id": "vZmuRbJLe3LI",
        "colab_type": "text"
      },
      "source": [
        "#Spliting training and test data"
      ]
    },
    {
      "cell_type": "code",
      "metadata": {
        "id": "0FBr7W5De9bt",
        "colab_type": "code",
        "colab": {}
      },
      "source": [
        "fruits_X = fruits[['height', 'width', 'mass', 'color_score']]\n",
        "fruits_y = fruits['fruit_label']\n",
        "fruits_X_train, fruits_X_test, fruits_y_train, fruits_y_test = train_test_split(fruits_X, fruits_y, random_state=0)\n",
        "\n",
        "\n",
        "banks_X = banks[banks_c]\n",
        "banks_y = banks[banks_l]\n",
        "banks_X_train, banks_X_test, banks_y_train, banks_y_test = train_test_split(banks_X, banks_y, random_state=0)\n",
        "\n",
        "zoo_X = zoo[zoo_c]\n",
        "zoo_y = zoo[zoo_l]\n",
        "zoo_X_train, zoo_X_test, zoo_y_train, zoo_y_test = train_test_split(zoo_X, zoo_y, random_state=0)\n",
        "\n",
        "abalone_X = abalone[abalone_c]\n",
        "abalone_y = abalone[abalone_l]\n",
        "abalone_X_train, abalone_X_test, abalone_y_train, abalone_y_test = train_test_split(abalone_X, abalone_y, random_state = 0)\n",
        "\n",
        "seed_X = seed[seed_c]\n",
        "seed_y = seed[seed_l]\n",
        "seed_X_train, seed_X_test, seed_y_train, seed_y_test = train_test_split(seed_X,seed_y, random_state=0)\n",
        "\n",
        "\n",
        "data_set = [[fruits_X_train, fruits_X_test, fruits_y_train, fruits_y_test],[banks_X_train, banks_X_test, banks_y_train, banks_y_test],[zoo_X_train, zoo_X_test, zoo_y_train, zoo_y_test],[abalone_X_train, abalone_X_test, abalone_y_train, abalone_y_test],[seed_X_train, seed_X_test, seed_y_train, seed_y_test]]"
      ],
      "execution_count": 71,
      "outputs": []
    },
    {
      "cell_type": "markdown",
      "metadata": {
        "id": "IdPmSYqojORg",
        "colab_type": "text"
      },
      "source": [
        "#2D DATA visualization"
      ]
    },
    {
      "cell_type": "code",
      "metadata": {
        "id": "-ERNg2VOjY-M",
        "colab_type": "code",
        "colab": {
          "base_uri": "https://localhost:8080/",
          "height": 558
        },
        "outputId": "32ad43b3-d39e-41aa-fa46-6881780435f0"
      },
      "source": [
        "from matplotlib import cm\n",
        "from pandas.plotting import scatter_matrix\n",
        "cmap = cm.get_cmap('gnuplot')\n",
        "#scatter = scatter_matrix(fruits_X_train, c = fruits_y_train, marker = 'o', s=40, hist_kwds={'bins':15}, figsize=(9,9),cmap=cmap)\n",
        "scatter = scatter_matrix(banks_X_train, c = banks_y_train, marker = 'o', s=40, hist_kwds={'bins':15}, figsize=(9,9),cmap=cmap)"
      ],
      "execution_count": 14,
      "outputs": [
        {
          "output_type": "display_data",
          "data": {
            "image/png": "[encoded data removed]",
            "text/plain": [
              "<Figure size 648x648 with 16 Axes>"
            ]
          },
          "metadata": {
            "tags": [],
            "needs_background": "light"
          }
        }
      ]
    },
    {
      "cell_type": "markdown",
      "metadata": {
        "id": "Q_CPh1nAk9eX",
        "colab_type": "text"
      },
      "source": [
        "#3D DATA VISUALIZATION"
      ]
    },
    {
      "cell_type": "code",
      "metadata": {
        "id": "J4orYa8rlDBT",
        "colab_type": "code",
        "colab": {
          "base_uri": "https://localhost:8080/",
          "height": 248
        },
        "outputId": "1becbded-363f-4a84-8493-b2855ab77a9f"
      },
      "source": [
        "from mpl_toolkits.mplot3d import Axes3D\n",
        "\n",
        "fig = plt.figure()\n",
        "ax = fig.add_subplot(111, projection = '3d')\n",
        "ax.scatter(fruits_X_train['width'], fruits_X_train['height'], fruits_X_train['color_score'], c = fruits_y_train,marker = 'o', s=100)\n",
        "ax.set_xlabel('width')\n",
        "ax.set_ylabel('height')\n",
        "ax.set_zlabel('color_score')\n",
        "plt.show()"
      ],
      "execution_count": 15,
      "outputs": [
        {
          "output_type": "display_data",
          "data": {
            "image/png": "[encoded data removed]",
            "text/plain": [
              "<Figure size 432x288 with 1 Axes>"
            ]
          },
          "metadata": {
            "tags": [],
            "needs_background": "light"
          }
        }
      ]
    },
    {
      "cell_type": "markdown",
      "metadata": {
        "id": "ujsRhYrxVQLW",
        "colab_type": "text"
      },
      "source": [
        "#Create classifier object"
      ]
    },
    {
      "cell_type": "code",
      "metadata": {
        "id": "rOIGzJZ9Vaua",
        "colab_type": "code",
        "colab": {}
      },
      "source": [
        "from sklearn.neighbors import KNeighborsClassifier\n",
        "from sklearn.linear_model import LogisticRegression\n",
        "from sklearn.svm import SVC\n",
        "from sklearn.tree import DecisionTreeClassifier\n",
        "from sklearn.ensemble import RandomForestClassifier\n",
        "\n",
        "'''f_knn = KNeighborsClassifier(n_neighbors=3)\n",
        "b_knn = KNeighborsClassifier(n_neighbors=3)\n",
        "z_knn = KNeighborsClassifier(n_neighbors=3)\n",
        "a_knn = KNeighborsClassifier(n_neighbors=12)\n",
        "s_knn = KNeighborsClassifier(n_neighbors=5)\n",
        "\n",
        "f_lr = LogisticRegression(multi_class='multinomial', solver = 'newton-cg')\n",
        "b_lr = LogisticRegression()\n",
        "z_lr = LogisticRegression(multi_class='multinomial', solver = 'newton-cg')\n",
        "a_lr = LogisticRegression(multi_class='multinomial', solver = 'newton-cg')\n",
        "s_lr = LogisticRegression(multi_class='multinomial', solver = 'newton-cg')\n",
        "\n",
        "f_svc = SVC(kernel = 'linear', C = 1)\n",
        "b_svc = SVC(kernel = 'linear', C = 1)\n",
        "z_svc = SVC(kernel = 'linear', C = 1)\n",
        "a_svc = SVC(kernel = 'linear', C = 1)\n",
        "s_svc = SVC(kernel = 'linear', C = 1)\n",
        "\n",
        "f_dtc = DecisionTreeClassifier(max_depth = 2)\n",
        "b_dtc = DecisionTreeClassifier(max_depth = 2)\n",
        "z_dtc = DecisionTreeClassifier(max_depth = 2)\n",
        "a_dtc = DecisionTreeClassifier(max_depth = 2)\n",
        "s_dtc = DecisionTreeClassifier(max_depth = 2)\n",
        "\n",
        "f_rtc = RandomForestClassifier(n_estimators=100)\n",
        "b_rtc = RandomForestClassifier(n_estimators=100)\n",
        "z_rtc = RandomForestClassifier(n_estimators=100)\n",
        "a_rtc = RandomForestClassifier(n_estimators=100)\n",
        "s_rtc = RandomForestClassifier(n_estimators=100)'''\n",
        "\n",
        "\n",
        "knn = KNeighborsClassifier(n_neighbors=3)\n",
        "lr = LogisticRegression(multi_class='multinomial', solver = 'newton-cg')\n",
        "svc = SVC(kernel = 'linear', C = 1)\n",
        "dtc = DecisionTreeClassifier(max_depth = 2)\n",
        "rtc = RandomForestClassifier(n_estimators=100)\n",
        "\n",
        "classifier = [knn,lr,svc,dtc,rtc]"
      ],
      "execution_count": 16,
      "outputs": []
    },
    {
      "cell_type": "markdown",
      "metadata": {
        "id": "4SsvzuJxZ05c",
        "colab_type": "text"
      },
      "source": [
        "#Training the classifier"
      ]
    },
    {
      "cell_type": "markdown",
      "metadata": {
        "id": "xoLZW7HUd7oz",
        "colab_type": "text"
      },
      "source": [
        "1.KNN"
      ]
    },
    {
      "cell_type": "code",
      "metadata": {
        "id": "IGVa7ZWhZ6Cr",
        "colab_type": "code",
        "colab": {}
      },
      "source": [
        "#f_knn.fit(fruits_X_train,fruits_y_train)"
      ],
      "execution_count": 17,
      "outputs": []
    },
    {
      "cell_type": "code",
      "metadata": {
        "id": "__e3cPjpuhWe",
        "colab_type": "code",
        "colab": {}
      },
      "source": [
        "#b_knn.fit(banks_X_train,banks_y_train)"
      ],
      "execution_count": 18,
      "outputs": []
    },
    {
      "cell_type": "code",
      "metadata": {
        "id": "pvUrhqhz6der",
        "colab_type": "code",
        "colab": {}
      },
      "source": [
        "#z_knn.fit(zoo_X_train,zoo_y_train)"
      ],
      "execution_count": 19,
      "outputs": []
    },
    {
      "cell_type": "code",
      "metadata": {
        "id": "d1Qdr-8WqrXt",
        "colab_type": "code",
        "colab": {}
      },
      "source": [
        "#a_knn.fit(abalone_X_train,abalone_y_train)"
      ],
      "execution_count": 20,
      "outputs": []
    },
    {
      "cell_type": "code",
      "metadata": {
        "id": "WV-COHAL7HF5",
        "colab_type": "code",
        "colab": {}
      },
      "source": [
        "#s_knn.fit(seed_X_train,seed_y_train)"
      ],
      "execution_count": 21,
      "outputs": []
    },
    {
      "cell_type": "markdown",
      "metadata": {
        "id": "WCK0pF-_d-2_",
        "colab_type": "text"
      },
      "source": [
        "2.Logistic Regression"
      ]
    },
    {
      "cell_type": "code",
      "metadata": {
        "id": "R1mBoaPKeErm",
        "colab_type": "code",
        "colab": {}
      },
      "source": [
        "#f_lr.fit(fruits_X_train, fruits_y_train)"
      ],
      "execution_count": 22,
      "outputs": []
    },
    {
      "cell_type": "code",
      "metadata": {
        "id": "jxwv8CCDfHUf",
        "colab_type": "code",
        "colab": {}
      },
      "source": [
        "#b_lr.fit(banks_X_train, banks_y_train)"
      ],
      "execution_count": 23,
      "outputs": []
    },
    {
      "cell_type": "code",
      "metadata": {
        "id": "k_E8hUs7fv7v",
        "colab_type": "code",
        "colab": {}
      },
      "source": [
        "#z_lr.fit(zoo_X_train, zoo_y_train)"
      ],
      "execution_count": 24,
      "outputs": []
    },
    {
      "cell_type": "code",
      "metadata": {
        "id": "cTDXy5YhgHjU",
        "colab_type": "code",
        "colab": {}
      },
      "source": [
        "#a_lr.fit(abalone_X_train,abalone_y_train)"
      ],
      "execution_count": 25,
      "outputs": []
    },
    {
      "cell_type": "code",
      "metadata": {
        "id": "pyIBgsCPgPJ7",
        "colab_type": "code",
        "colab": {}
      },
      "source": [
        "#s_lr.fit(seed_X_tarin,seed_y_train)"
      ],
      "execution_count": 26,
      "outputs": []
    },
    {
      "cell_type": "markdown",
      "metadata": {
        "id": "pq-xZFKil4oE",
        "colab_type": "text"
      },
      "source": [
        "3.Support Vector Machine"
      ]
    },
    {
      "cell_type": "code",
      "metadata": {
        "id": "4lmungsZlwFb",
        "colab_type": "code",
        "colab": {}
      },
      "source": [
        "#f_svc.fit(fruits_X_train, fruits_y_train)"
      ],
      "execution_count": 27,
      "outputs": []
    },
    {
      "cell_type": "code",
      "metadata": {
        "id": "h3wUpA8VmUAD",
        "colab_type": "code",
        "colab": {}
      },
      "source": [
        "#b_svc.fit(banks_X_train, banks_y_train)"
      ],
      "execution_count": 28,
      "outputs": []
    },
    {
      "cell_type": "code",
      "metadata": {
        "id": "2IEgBhYcmdhQ",
        "colab_type": "code",
        "colab": {}
      },
      "source": [
        "#z_svc.fit(zoo_X_train, zoo_y_train)"
      ],
      "execution_count": 29,
      "outputs": []
    },
    {
      "cell_type": "code",
      "metadata": {
        "id": "LeJXorOrmm4K",
        "colab_type": "code",
        "colab": {}
      },
      "source": [
        "#a_svc.fit(abalone_X_train,abalone_y_train)"
      ],
      "execution_count": 30,
      "outputs": []
    },
    {
      "cell_type": "code",
      "metadata": {
        "id": "kuZwzSUhmwi0",
        "colab_type": "code",
        "colab": {}
      },
      "source": [
        "#s_svc.fit(seed_X_train,seed_y_train)"
      ],
      "execution_count": 31,
      "outputs": []
    },
    {
      "cell_type": "markdown",
      "metadata": {
        "id": "2koHBf1noiw8",
        "colab_type": "text"
      },
      "source": [
        "4.Decision Tree"
      ]
    },
    {
      "cell_type": "code",
      "metadata": {
        "id": "DM96tLlconUi",
        "colab_type": "code",
        "colab": {
          "base_uri": "https://localhost:8080/",
          "height": 0
        },
        "outputId": "7146769e-3d31-4a0f-e60f-e07b3a9a34d9"
      },
      "source": [
        "'''f_dtc.fit(fruits_X_train,fruits_y_train)\n",
        "b_dtc.fit(banks_X_train,banks_y_train)\n",
        "z_dtc.fit(zoo_X_train,zoo_y_train)\n",
        "a_dtc.fit(abalone_X_train,abalone_y_train)\n",
        "s_dtc.fit(seed_X_tarin,seed_y_train)'''"
      ],
      "execution_count": 32,
      "outputs": [
        {
          "output_type": "execute_result",
          "data": {
            "application/vnd.google.colaboratory.intrinsic+json": {
              "type": "string"
            },
            "text/plain": [
              "'f_dtc.fit(fruits_X_train,fruits_y_train)\\nb_dtc.fit(banks_X_train,banks_y_train)\\nz_dtc.fit(zoo_X_train,zoo_y_train)\\na_dtc.fit(abalone_X_train,abalone_y_train)\\ns_dtc.fit(seed_X_tarin,seed_y_train)'"
            ]
          },
          "metadata": {
            "tags": []
          },
          "execution_count": 32
        }
      ]
    },
    {
      "cell_type": "markdown",
      "metadata": {
        "id": "Ijic6cOYtLzn",
        "colab_type": "text"
      },
      "source": [
        "5.Random Forest "
      ]
    },
    {
      "cell_type": "code",
      "metadata": {
        "id": "WUM12hAGtRS4",
        "colab_type": "code",
        "colab": {
          "base_uri": "https://localhost:8080/",
          "height": 0
        },
        "outputId": "cf35e19f-4b30-4964-ae4b-5893b142f9c8"
      },
      "source": [
        "'''f_rtc.fit(fruits_X_train,fruits_y_train)\n",
        "b_rtc.fit(banks_X_train,banks_y_train)\n",
        "z_rtc.fit(zoo_X_train,zoo_y_train)\n",
        "a_rtc.fit(abalone_X_train,abalone_y_train)\n",
        "s_rtc.fit(seed_X_tarin,seed_y_train)'''"
      ],
      "execution_count": 33,
      "outputs": [
        {
          "output_type": "execute_result",
          "data": {
            "application/vnd.google.colaboratory.intrinsic+json": {
              "type": "string"
            },
            "text/plain": [
              "'f_rtc.fit(fruits_X_train,fruits_y_train)\\nb_rtc.fit(banks_X_train,banks_y_train)\\nz_rtc.fit(zoo_X_train,zoo_y_train)\\na_rtc.fit(abalone_X_train,abalone_y_train)\\ns_rtc.fit(seed_X_tarin,seed_y_train)'"
            ]
          },
          "metadata": {
            "tags": []
          },
          "execution_count": 33
        }
      ]
    },
    {
      "cell_type": "markdown",
      "metadata": {
        "id": "GhaSaT6fae5I",
        "colab_type": "text"
      },
      "source": [
        "#Accuracy of classifier using test set"
      ]
    },
    {
      "cell_type": "code",
      "metadata": {
        "id": "guRfI3PQaqlE",
        "colab_type": "code",
        "colab": {}
      },
      "source": [
        "#f_knn.score(fruits_X_test,fruits_y_test)"
      ],
      "execution_count": 34,
      "outputs": []
    },
    {
      "cell_type": "code",
      "metadata": {
        "id": "SqMBEe9WeUMk",
        "colab_type": "code",
        "colab": {}
      },
      "source": [
        "#f_lr.score(fruits_X_test, fruits_y_test)"
      ],
      "execution_count": 35,
      "outputs": []
    },
    {
      "cell_type": "code",
      "metadata": {
        "id": "zvBXM-OinJZc",
        "colab_type": "code",
        "colab": {}
      },
      "source": [
        "#f_svc.score(fruits_X_test, fruits_y_test)"
      ],
      "execution_count": 36,
      "outputs": []
    },
    {
      "cell_type": "code",
      "metadata": {
        "id": "EH9i3xhapfvC",
        "colab_type": "code",
        "colab": {}
      },
      "source": [
        "#f_dtc.score(fruits_X_test, fruits_y_test)"
      ],
      "execution_count": 37,
      "outputs": []
    },
    {
      "cell_type": "code",
      "metadata": {
        "id": "Xm97-SGduPPM",
        "colab_type": "code",
        "colab": {}
      },
      "source": [
        "#f_rtc.score(fruits_X_test, fruits_y_test)"
      ],
      "execution_count": 38,
      "outputs": []
    },
    {
      "cell_type": "code",
      "metadata": {
        "id": "jyQraxpYuqIe",
        "colab_type": "code",
        "colab": {}
      },
      "source": [
        "#b_knn.score(banks_X_test,banks_y_test)"
      ],
      "execution_count": 39,
      "outputs": []
    },
    {
      "cell_type": "code",
      "metadata": {
        "id": "kwidqtPOfUyY",
        "colab_type": "code",
        "colab": {}
      },
      "source": [
        "#b_lr.score(banks_X_test,banks_y_test)"
      ],
      "execution_count": 40,
      "outputs": []
    },
    {
      "cell_type": "code",
      "metadata": {
        "id": "VAl9yWpMnOe5",
        "colab_type": "code",
        "colab": {}
      },
      "source": [
        "#b_svc.score(banks_X_test,banks_y_test)"
      ],
      "execution_count": 41,
      "outputs": []
    },
    {
      "cell_type": "code",
      "metadata": {
        "id": "_swBu5YFpnfu",
        "colab_type": "code",
        "colab": {}
      },
      "source": [
        "#b_dtc.score(banks_X_test,banks_y_test)"
      ],
      "execution_count": 42,
      "outputs": []
    },
    {
      "cell_type": "code",
      "metadata": {
        "id": "kkfPZjry6pmu",
        "colab_type": "code",
        "colab": {}
      },
      "source": [
        "#z_knn.score(zoo_X_test,zoo_y_test)"
      ],
      "execution_count": 43,
      "outputs": []
    },
    {
      "cell_type": "code",
      "metadata": {
        "id": "SeuUYsk_gaDo",
        "colab_type": "code",
        "colab": {}
      },
      "source": [
        "#z_lr.score(zoo_X_test,zoo_y_test)"
      ],
      "execution_count": 44,
      "outputs": []
    },
    {
      "cell_type": "code",
      "metadata": {
        "id": "QyVoSyivnWLL",
        "colab_type": "code",
        "colab": {}
      },
      "source": [
        "#z_svc.score(zoo_X_test,zoo_y_test)"
      ],
      "execution_count": 45,
      "outputs": []
    },
    {
      "cell_type": "code",
      "metadata": {
        "id": "q8OdW3JTptpI",
        "colab_type": "code",
        "colab": {}
      },
      "source": [
        "#z_dtc.score(zoo_X_test,zoo_y_test)"
      ],
      "execution_count": 46,
      "outputs": []
    },
    {
      "cell_type": "code",
      "metadata": {
        "id": "z8OK1-O7q0QE",
        "colab_type": "code",
        "colab": {}
      },
      "source": [
        "#a_knn.score(abalone_X_test,abalone_y_test)"
      ],
      "execution_count": 47,
      "outputs": []
    },
    {
      "cell_type": "code",
      "metadata": {
        "id": "Q_MGV2QAghXP",
        "colab_type": "code",
        "colab": {}
      },
      "source": [
        "#a_lr.score(abalone_X_test,abalone_y_test)"
      ],
      "execution_count": 48,
      "outputs": []
    },
    {
      "cell_type": "code",
      "metadata": {
        "id": "231-UQB-ng16",
        "colab_type": "code",
        "colab": {}
      },
      "source": [
        "#a_svc.score(abalone_X_test,abalone_y_test)"
      ],
      "execution_count": 49,
      "outputs": []
    },
    {
      "cell_type": "code",
      "metadata": {
        "id": "vX6ztA3sp16t",
        "colab_type": "code",
        "colab": {}
      },
      "source": [
        "#a_dtc.score(abalone_X_test,abalone_y_test)"
      ],
      "execution_count": 50,
      "outputs": []
    },
    {
      "cell_type": "code",
      "metadata": {
        "id": "oKZQnxm97Rj7",
        "colab_type": "code",
        "colab": {}
      },
      "source": [
        "#s_knn.score(seed_X_test,seed_y_test)"
      ],
      "execution_count": 51,
      "outputs": []
    },
    {
      "cell_type": "code",
      "metadata": {
        "id": "XqG7VyisgouL",
        "colab_type": "code",
        "colab": {}
      },
      "source": [
        "#s_lr.score(seed_X_test,seed_y_test)"
      ],
      "execution_count": 52,
      "outputs": []
    },
    {
      "cell_type": "code",
      "metadata": {
        "id": "I1QVPMCInlha",
        "colab_type": "code",
        "colab": {}
      },
      "source": [
        "#s_svc.score(seed_X_test,seed_y_test)"
      ],
      "execution_count": 53,
      "outputs": []
    },
    {
      "cell_type": "code",
      "metadata": {
        "id": "-FMNV956qCFa",
        "colab_type": "code",
        "colab": {}
      },
      "source": [
        "#s_dtc.score(seed_X_test,seed_y_test)"
      ],
      "execution_count": 54,
      "outputs": []
    },
    {
      "cell_type": "markdown",
      "metadata": {
        "id": "fHF96LPNSbdI",
        "colab_type": "text"
      },
      "source": [
        "#Evaluation matrix"
      ]
    },
    {
      "cell_type": "code",
      "metadata": {
        "id": "XGqHlviVSWVO",
        "colab_type": "code",
        "colab": {
          "base_uri": "https://localhost:8080/",
          "height": 697
        },
        "outputId": "6903e329-deb8-4841-b4d9-1fb57716394e"
      },
      "source": [
        "from sklearn import metrics\n",
        "d_name = [\"FRUIT DATA SET\",\"BANK DATA SET\",\"ZOO DATA SET\",\"ABALONE DATA SET\",\"SEED DATA SET\"]\n",
        "c_name = ['KNN  ','LRC  ','SVM  ','DTC  ','RFC  ']\n",
        "\n",
        "with open(\"TASK_2.txt\",\"w\") as ouf:\n",
        "    for d,i in zip(d_name,data_set):\n",
        "        print(d)\n",
        "        ouf.write(d+\"\\n\")\n",
        "        print(\"Name   accu    prec   reca  f1_sc  \")\n",
        "        ouf.write(\"Name   accu    prec   reca  f1_sc  \"+\"\\n\")\n",
        "        for n,j in zip(c_name,classifier):\n",
        "            #s1=i[0].shapecut\n",
        "            #s2=i[1].shapecut\n",
        "            #print(s1,s2)cut\n",
        "            j.fit(i[0],i[2])\n",
        "            y_pred = j.predict(i[1])\n",
        "            acc = metrics.accuracy_score(i[3],y_pred)\n",
        "            pre = metrics.precision_score(i[3],y_pred,average = 'macro', zero_division=1)\n",
        "            rec = metrics.recall_score(i[3],y_pred, average = 'macro',zero_division=1)\n",
        "            f1 = metrics.f1_score(i[3],y_pred, average = 'macro', zero_division=1)\n",
        "            print(n,end=' ')\n",
        "            ouf.write(str(n)+\" \")\n",
        "            print('%.4f'%acc, '%.4f'%pre, '%.4f'%rec, '%.4f'%f1)\n",
        "            ouf.write(str('%.4f'%acc)+\" \" +str('%.4f'%pre)+\" \"+ str('%.4f'%rec)+\" \" + str('%.4f'%f1)+\"\\n\")\n",
        "            #print(pre)cut\n",
        "        print(\"---------------\")\n",
        "        ouf.write(\"---------------\"+\"\\n\")\n"
      ],
      "execution_count": 55,
      "outputs": [
        {
          "output_type": "stream",
          "text": [
            "FRUIT DATA SET\n",
            "Name   accu    prec   reca  f1_sc  \n",
            "KNN   0.5333 0.6250 0.6562 0.6083\n",
            "LRC   0.4667 0.6875 0.6875 0.6667\n",
            "SVM   0.6000 0.8500 0.8125 0.7429\n",
            "DTC   0.4667 0.5833 0.3438 0.3222\n",
            "RFC   0.8000 0.8333 0.9062 0.8423\n",
            "---------------\n",
            "BANK DATA SET\n",
            "Name   accu    prec   reca  f1_sc  \n",
            "KNN   1.0000 1.0000 1.0000 1.0000\n",
            "LRC   0.9854 0.9837 0.9872 0.9852\n",
            "SVM   0.9854 0.9837 0.9872 0.9852\n",
            "DTC   0.9155 0.9164 0.9110 0.9133\n",
            "RFC   0.9913 0.9907 0.9915 0.9911\n",
            "---------------\n",
            "ZOO DATA SET\n",
            "Name   accu    prec   reca  f1_sc  \n",
            "KNN   1.0000 1.0000 1.0000 1.0000\n",
            "LRC   1.0000 1.0000 1.0000 1.0000\n",
            "SVM   1.0000 1.0000 1.0000 1.0000\n",
            "DTC   0.7692 0.9221 0.4286 0.3750\n",
            "RFC   1.0000 1.0000 1.0000 1.0000\n",
            "---------------\n",
            "ABALONE DATA SET\n",
            "Name   accu    prec   reca  f1_sc  \n",
            "KNN   0.2115 0.4237 0.1120 0.1037\n",
            "LRC   0.2469 0.7278 0.0899 0.0752\n",
            "SVM   0.2660 0.8071 0.1016 0.0799\n",
            "DTC   0.2488 0.8762 0.1061 0.0675\n",
            "RFC   0.2469 0.3684 0.1613 0.1146\n",
            "---------------\n",
            "SEED DATA SET\n",
            "Name   accu    prec   reca  f1_sc  \n",
            "KNN   0.9400 0.9474 0.9375 0.9369\n",
            "LRC   0.9400 0.9474 0.9398 0.9397\n",
            "SVM   0.9400 0.9474 0.9398 0.9397\n",
            "DTC   0.8800 0.8867 0.8819 0.8828\n",
            "RFC   0.9200 0.9333 0.9236 0.9219\n",
            "---------------\n"
          ],
          "name": "stdout"
        }
      ]
    },
    {
      "cell_type": "code",
      "metadata": {
        "id": "UTsW4lMn_fd2",
        "colab_type": "code",
        "colab": {
          "base_uri": "https://localhost:8080/",
          "height": 697
        },
        "outputId": "2807bddb-dfd6-4714-f250-34f918f06756"
      },
      "source": [
        "from sklearn import metrics\n",
        "d_name = [\"FRUIT DATA SET\",\"BANK DATA SET\",\"ZOO DATA SET\",\"ABALONE DATA SET\",\"SEED DATA SET\"]\n",
        "c_name = ['KNN  ','LRC  ','SVM  ','DTC  ','RFC  ']\n",
        "\n",
        "with open(\"TASK_4_train.txt\",\"w\") as ouf:\n",
        "    for d,i in zip(d_name,data_set):\n",
        "        print(d)\n",
        "        ouf.write(d+\"\\n\")\n",
        "        print(\"Name   accu    prec   reca  f1_sc  \")\n",
        "        ouf.write(\"Name   accu    prec   reca  f1_sc  \"+\"\\n\")\n",
        "        for n,j in zip(c_name,classifier):\n",
        "            #s1=i[0].shapecut\n",
        "            #s2=i[1].shapecut\n",
        "            #print(s1,s2)cut\n",
        "            j.fit(i[0],i[2])\n",
        "            y_pred = j.predict(i[0])\n",
        "            acc = metrics.accuracy_score(i[2],y_pred)\n",
        "            pre = metrics.precision_score(i[2],y_pred,average = 'macro', zero_division=1)\n",
        "            rec = metrics.recall_score(i[2],y_pred,average = 'macro', zero_division=1)\n",
        "            f1 = metrics.f1_score(i[2],y_pred,average = 'macro', zero_division=1)\n",
        "            print(n,end=' ')\n",
        "            ouf.write(str(n)+\" \")\n",
        "            print('%.4f'%acc, '%.4f'%pre, '%.4f'%rec, '%.4f'%f1)\n",
        "            ouf.write(str('%.4f'%acc)+\" \" +str('%.4f'%pre)+\" \"+ str('%.4f'%rec)+\" \" + str('%.4f'%f1)+\"\\n\")\n",
        "            #print(pre)cut\n",
        "        print(\"---------------\")\n",
        "        ouf.write(\"---------------\"+\"\\n\")\n"
      ],
      "execution_count": 56,
      "outputs": [
        {
          "output_type": "stream",
          "text": [
            "FRUIT DATA SET\n",
            "Name   accu    prec   reca  f1_sc  \n",
            "KNN   0.8182 0.8602 0.8510 0.8536\n",
            "LRC   0.8182 0.8667 0.8242 0.8194\n",
            "SVM   0.8182 0.8667 0.8242 0.8194\n",
            "DTC   0.7955 0.8875 0.6643 0.6304\n",
            "RFC   1.0000 1.0000 1.0000 1.0000\n",
            "---------------\n",
            "BANK DATA SET\n",
            "Name   accu    prec   reca  f1_sc  \n",
            "KNN   0.9990 0.9989 0.9991 0.9990\n",
            "LRC   0.9932 0.9929 0.9934 0.9931\n",
            "SVM   0.9913 0.9911 0.9913 0.9912\n",
            "DTC   0.9155 0.9157 0.9133 0.9143\n",
            "RFC   1.0000 1.0000 1.0000 1.0000\n",
            "---------------\n",
            "ZOO DATA SET\n",
            "Name   accu    prec   reca  f1_sc  \n",
            "KNN   0.9467 0.9153 0.8750 0.8575\n",
            "LRC   1.0000 1.0000 1.0000 1.0000\n",
            "SVM   1.0000 1.0000 1.0000 1.0000\n",
            "DTC   0.7200 0.8966 0.4286 0.3475\n",
            "RFC   1.0000 1.0000 1.0000 1.0000\n",
            "---------------\n",
            "ABALONE DATA SET\n",
            "Name   accu    prec   reca  f1_sc  \n",
            "KNN   0.5089 0.7297 0.3504 0.3510\n",
            "LRC   0.2698 0.7648 0.0790 0.0683\n",
            "SVM   0.2625 0.8498 0.0854 0.0731\n",
            "DTC   0.2551 0.8930 0.0919 0.0563\n",
            "RFC   1.0000 1.0000 1.0000 1.0000\n",
            "---------------\n",
            "SEED DATA SET\n",
            "Name   accu    prec   reca  f1_sc  \n",
            "KNN   0.9527 0.9525 0.9525 0.9520\n",
            "LRC   0.9527 0.9519 0.9522 0.9520\n",
            "SVM   0.9595 0.9596 0.9589 0.9584\n",
            "DTC   0.9324 0.9362 0.9317 0.9301\n",
            "RFC   1.0000 1.0000 1.0000 1.0000\n",
            "---------------\n"
          ],
          "name": "stdout"
        }
      ]
    },
    {
      "cell_type": "code",
      "metadata": {
        "id": "_bA0su57c9z0",
        "colab_type": "code",
        "colab": {
          "base_uri": "https://localhost:8080/",
          "height": 343
        },
        "outputId": "381b7e85-ec4f-44cd-bd36-bcdf48390b0d"
      },
      "source": [
        "from sklearn.ensemble import AdaBoostClassifier\n",
        "from sklearn.model_selection import StratifiedKFold\n",
        "from sklearn.ensemble import VotingClassifier\n",
        "from sklearn.naive_bayes import GaussianNB\n",
        "\n",
        "def do(abalone_X_train, abalone_y_train,model):\n",
        "    cv = StratifiedKFold(n_splits=2, shuffle=False)\n",
        "\n",
        "    #ada_model = AdaBoostClassifier(n_estimators=100, random_state=0)\n",
        "\n",
        "    acc_train = []\n",
        "    recall_train = []\n",
        "    auROC_train = []\n",
        "\n",
        "    acc_test = []\n",
        "    recall_test = []\n",
        "    auROC_test = []\n",
        "\n",
        "\n",
        "    for train_index, test_index in cv.split(abalone_X_train, abalone_y_train):\n",
        "        X_train = abalone_X_train[train_index]\n",
        "        X_test = abalone_X_train[test_index]\n",
        "        y_train = abalone_y_train[train_index]\n",
        "        y_test = abalone_y_train[test_index]\n",
        "        model.fit(X_train, y_train)\n",
        "        y_pred_train = model.predict(X_train)\n",
        "        y_pred_test = model.predict(X_test)\n",
        "\n",
        "        acc_test.append(metrics.accuracy_score(y_test, y_pred_test))\n",
        "        recall_test.append(metrics.recall_score(y_test, y_pred_test, average='macro'))\n",
        "        #auROC_test.append(metrics.roc_auc_score(y_test, y_pred_test, average='macro',multi_class='ovr'))\n",
        "\n",
        "        acc_train.append(metrics.accuracy_score(y_train, y_pred_train))\n",
        "        recall_train.append(metrics.recall_score(y_train, y_pred_train,average='macro'))\n",
        "        #auROC_train.append(metrics.roc_auc_score(y_train, y_pred_train, average='macro',multi_class='ovr'))\n",
        "\n",
        "    print(\"Test ACCURACY: {0:3.6}%\".format(np.mean(acc_test)*100), \"Train ACCURACY: {0:3.6}%\".format(np.mean(acc_train)*100))\n",
        "    print(\"Test Recall: {0:3.6}%\".format(np.mean(recall_test)*100), \"Train Recall: {0:3.6}%\".format(np.mean(recall_train)*100))\n",
        "\n",
        "ada_model = AdaBoostClassifier(n_estimators=100, random_state=0)\n",
        "DT = DecisionTreeClassifier()\n",
        "GB = GaussianNB()\n",
        "LR = LogisticRegression(max_iter=1000)\n",
        "vt_model = VotingClassifier(estimators=[('dt', DT), ('lr', LR), ('gb', GB)], weights=[1,1,1])\n",
        "\n",
        "seed_X_train = np.asarray(seed_X_train)\n",
        "seed_y_train = np.asarray(seed_y_train)\n",
        "\n",
        "abalone_X_train = np.asarray(abalone_X_train)\n",
        "abalone_y_train = np.asarray(abalone_y_train)\n",
        "\n",
        "print('abalone_adaboost')\n",
        "do(abalone_X_train, abalone_y_train,ada_model)\n",
        "print('seed_adaboost')\n",
        "do(seed_X_train, seed_y_train, ada_model)\n",
        "print('abalone_ensemble')\n",
        "do(abalone_X_train, abalone_y_train,vt_model)\n",
        "print('seed_ensemble')\n",
        "do(seed_X_train, seed_y_train, vt_model)"
      ],
      "execution_count": 57,
      "outputs": [
        {
          "output_type": "stream",
          "text": [
            "abalone_adaboost\n"
          ],
          "name": "stdout"
        },
        {
          "output_type": "stream",
          "text": [
            "/usr/local/lib/python3.6/dist-packages/sklearn/model_selection/_split.py:667: UserWarning: The least populated class in y has only 1 members, which is less than n_splits=2.\n",
            "  % (min_groups, self.n_splits)), UserWarning)\n"
          ],
          "name": "stderr"
        },
        {
          "output_type": "stream",
          "text": [
            "Test ACCURACY: 21.0728% Train ACCURACY: 21.9987%\n",
            "Test Recall: 6.7203% Train Recall: 10.9659%\n",
            "seed_adaboost\n",
            "Test ACCURACY: 88.5135% Train ACCURACY: 97.973%\n",
            "Test Recall: 88.4054% Train Recall: 97.9167%\n",
            "abalone_ensemble\n"
          ],
          "name": "stdout"
        },
        {
          "output_type": "stream",
          "text": [
            "/usr/local/lib/python3.6/dist-packages/sklearn/model_selection/_split.py:667: UserWarning: The least populated class in y has only 1 members, which is less than n_splits=2.\n",
            "  % (min_groups, self.n_splits)), UserWarning)\n"
          ],
          "name": "stderr"
        },
        {
          "output_type": "stream",
          "text": [
            "Test ACCURACY: 23.7548% Train ACCURACY: 46.871%\n",
            "Test Recall: 12.5411% Train Recall: 41.7793%\n",
            "seed_ensemble\n",
            "Test ACCURACY: 90.5405% Train ACCURACY: 99.3243%\n",
            "Test Recall: 90.2986% Train Recall: 99.3056%\n"
          ],
          "name": "stdout"
        },
        {
          "output_type": "stream",
          "text": [
            "/usr/local/lib/python3.6/dist-packages/sklearn/metrics/_classification.py:1272: UndefinedMetricWarning: Recall is ill-defined and being set to 0.0 in labels with no true samples. Use `zero_division` parameter to control this behavior.\n",
            "  _warn_prf(average, modifier, msg_start, len(result))\n"
          ],
          "name": "stderr"
        }
      ]
    },
    {
      "cell_type": "markdown",
      "metadata": {
        "id": "Ms6j6HZ3AREp",
        "colab_type": "text"
      },
      "source": [
        "#Optimaization of k in knn classifier & Decision tree"
      ]
    },
    {
      "cell_type": "code",
      "metadata": {
        "id": "SnrkhZ9YAsQX",
        "colab_type": "code",
        "colab": {
          "base_uri": "https://localhost:8080/",
          "height": 234
        },
        "outputId": "d575e62e-5327-472c-fb56-b36f68689945"
      },
      "source": [
        "rng = int(seed_X.shape[0]**0.5)+1\n",
        "\n",
        "figure, axes = plt.subplots(nrows=1, ncols=2,figsize=(15,5))\n",
        "\n",
        "error_rate = []\n",
        "accu_l = []\n",
        "\n",
        "for i in range(1,rng):\n",
        "    knn = KNeighborsClassifier(n_neighbors=i)\n",
        "    knn.fit(seed_X_train, seed_y_train)\n",
        "    pred = knn.predict(seed_X_test)\n",
        "    error_rate.append(np.mean(pred != seed_y_test))\n",
        "    accu_l.append(metrics.accuracy_score(seed_y_test,pred))\n",
        "\n",
        "\n",
        "axes[0].plot(range(1,rng),error_rate, marker='o')\n",
        "axes[1].plot(range(1,rng),accu_l, marker='o')\n",
        "plt.show()"
      ],
      "execution_count": 58,
      "outputs": [
        {
          "output_type": "display_data",
          "data": {
            "image/png": "[encoded data removed]",
            "text/plain": [
              "<Figure size 1080x360 with 2 Axes>"
            ]
          },
          "metadata": {
            "tags": [],
            "needs_background": "light"
          }
        }
      ]
    },
    {
      "cell_type": "markdown",
      "metadata": {
        "id": "-lInxeh_QFad",
        "colab_type": "text"
      },
      "source": [
        "#Task 6 - Neural Network on Keras for Multiclass Classification"
      ]
    },
    {
      "cell_type": "markdown",
      "metadata": {
        "id": "Ib_PbiIaQfDM",
        "colab_type": "text"
      },
      "source": [
        "Importing library"
      ]
    },
    {
      "cell_type": "code",
      "metadata": {
        "id": "OG2Q1gbjQL4-",
        "colab_type": "code",
        "colab": {}
      },
      "source": [
        "from keras.models import Sequential\n",
        "from keras.layers import Dense\n",
        "from sklearn.preprocessing import OneHotEncoder"
      ],
      "execution_count": 90,
      "outputs": []
    },
    {
      "cell_type": "code",
      "metadata": {
        "id": "qvhKGyFFRJ69",
        "colab_type": "code",
        "colab": {
          "base_uri": "https://localhost:8080/",
          "height": 68
        },
        "outputId": "cbfcbe39-d48c-44d2-8876-d2bb25a23e9d"
      },
      "source": [
        "print(zoo_y.shape)\n",
        "print(zoo_y.unique())\n",
        "print(zoo_X.shape)"
      ],
      "execution_count": 91,
      "outputs": [
        {
          "output_type": "stream",
          "text": [
            "(101,)\n",
            "[1 4 2 7 6 5 3]\n",
            "(101, 16)\n"
          ],
          "name": "stdout"
        }
      ]
    },
    {
      "cell_type": "markdown",
      "metadata": {
        "id": "nwT2l4OrRppI",
        "colab_type": "text"
      },
      "source": [
        "OneHotEncodning"
      ]
    },
    {
      "cell_type": "code",
      "metadata": {
        "id": "G9aGcPyFRu8V",
        "colab_type": "code",
        "colab": {}
      },
      "source": [
        "encoder = OneHotEncoder(handle_unknown='ignore')\n",
        "zoo_y_onehot = encoder.fit_transform(zoo_y.values.reshape(-1, 1)).toarray()\n"
      ],
      "execution_count": 92,
      "outputs": []
    },
    {
      "cell_type": "code",
      "metadata": {
        "id": "ePyev3BxTC29",
        "colab_type": "code",
        "colab": {
          "base_uri": "https://localhost:8080/",
          "height": 34
        },
        "outputId": "253898c7-6705-4bfd-c6d4-6496ff8b516e"
      },
      "source": [
        "zoo_y_onehot.shape"
      ],
      "execution_count": 74,
      "outputs": [
        {
          "output_type": "execute_result",
          "data": {
            "text/plain": [
              "(101, 7)"
            ]
          },
          "metadata": {
            "tags": []
          },
          "execution_count": 74
        }
      ]
    },
    {
      "cell_type": "code",
      "metadata": {
        "id": "d1ypgPnEUECJ",
        "colab_type": "code",
        "colab": {}
      },
      "source": [
        "def normalize(train_data):\n",
        "    train_data = (train_data - train_data.mean()) / (train_data.std())\n",
        "    return train_data\n",
        "\n",
        "def results(X,y,optimizer,isnormalize,number_of_hidden_layer,number_of_nodes):\n",
        "    if isnormalize:\n",
        "        X = normalize(X)\n",
        "    train_x, test_x, train_y, test_y = train_test_split(X, y, random_state = 0)\n",
        "    print(train_x.shape,train_y.shape)\n",
        "    model = Sequential()\n",
        "    model.add(Dense(32, input_dim=16, activation='relu'))\n",
        "    for i in range(number_of_hidden_layer+1):\n",
        "        if i == number_of_hidden_layer:\n",
        "            model.add(Dense(7, activation='softmax'))\n",
        "        else:\n",
        "            model.add(Dense(number_of_nodes[i], activation='relu'))\n",
        "\n",
        "    model.compile(loss='categorical_crossentropy', optimizer=optimizer, metrics=['accuracy'])\n",
        "    return model.fit(train_x, train_y, epochs=7, batch_size=7)\n",
        "\n"
      ],
      "execution_count": 144,
      "outputs": []
    },
    {
      "cell_type": "code",
      "metadata": {
        "id": "A7RM5Po1dbtO",
        "colab_type": "code",
        "colab": {
          "base_uri": "https://localhost:8080/",
          "height": 1000
        },
        "outputId": "1cd26748-3e39-45c0-be07-ab214b656e25"
      },
      "source": [
        "op = [\"adam\",\"rmsprop\"]\n",
        "isn = [False,True]\n",
        "nfh = [2,3,4]\n",
        "nfn = {2:[[10,15]],3:[[10,15,10],[16,8,4]],4:[[10,15,10,15],[16,8,4,2]]}\n",
        "history = []\n",
        "pram = []\n",
        "for i in op:\n",
        "    for j in isn:\n",
        "        for k in nfh:\n",
        "            for l in nfn[k]:\n",
        "                print(i, j, k, l)\n",
        "                pram.append([i, j, k, l])\n",
        "                history.append(resultsl(zoo_X,zoo_y_onehot,i,j,k,l))\n",
        "#l = resultsl(zoo_X,zoo_y_onehot,'adam',False,2,[10, 15])\n",
        "for j,i in enumerate(history):\n",
        "    print(pram[j])\n",
        "    print(i.history['accuracy'])\n"
      ],
      "execution_count": 145,
      "outputs": [
        {
          "output_type": "stream",
          "text": [
            "adam False 2 [10, 15]\n",
            "(75, 16) (75, 7)\n",
            "Epoch 1/7\n",
            "11/11 [==============================] - 0s 2ms/step - loss: 1.9011 - accuracy: 0.1733\n",
            "Epoch 2/7\n",
            "11/11 [==============================] - 0s 2ms/step - loss: 1.7544 - accuracy: 0.4267\n",
            "Epoch 3/7\n",
            "11/11 [==============================] - 0s 1ms/step - loss: 1.6236 - accuracy: 0.5867\n",
            "Epoch 4/7\n",
            "11/11 [==============================] - 0s 1ms/step - loss: 1.4982 - accuracy: 0.6400\n",
            "Epoch 5/7\n",
            "11/11 [==============================] - 0s 1ms/step - loss: 1.3593 - accuracy: 0.7733\n",
            "Epoch 6/7\n",
            "11/11 [==============================] - 0s 2ms/step - loss: 1.2087 - accuracy: 0.7867\n",
            "Epoch 7/7\n",
            "11/11 [==============================] - 0s 2ms/step - loss: 1.0475 - accuracy: 0.7867\n",
            "adam False 3 [10, 15, 10]\n",
            "(75, 16) (75, 7)\n",
            "Epoch 1/7\n",
            "11/11 [==============================] - 0s 2ms/step - loss: 1.8958 - accuracy: 0.4267\n",
            "Epoch 2/7\n",
            "11/11 [==============================] - 0s 2ms/step - loss: 1.8250 - accuracy: 0.5733\n",
            "Epoch 3/7\n",
            "11/11 [==============================] - 0s 1ms/step - loss: 1.7468 - accuracy: 0.5867\n",
            "Epoch 4/7\n",
            "11/11 [==============================] - 0s 1ms/step - loss: 1.6361 - accuracy: 0.6133\n",
            "Epoch 5/7\n",
            "11/11 [==============================] - 0s 2ms/step - loss: 1.4963 - accuracy: 0.6133\n",
            "Epoch 6/7\n",
            "11/11 [==============================] - 0s 2ms/step - loss: 1.3353 - accuracy: 0.6133\n",
            "Epoch 7/7\n",
            "11/11 [==============================] - 0s 2ms/step - loss: 1.1627 - accuracy: 0.6133\n",
            "adam False 3 [16, 8, 4]\n",
            "(75, 16) (75, 7)\n",
            "Epoch 1/7\n",
            "11/11 [==============================] - 0s 1ms/step - loss: 2.1486 - accuracy: 0.0933\n",
            "Epoch 2/7\n",
            "11/11 [==============================] - 0s 1ms/step - loss: 1.9650 - accuracy: 0.2933\n",
            "Epoch 3/7\n",
            "11/11 [==============================] - 0s 1ms/step - loss: 1.8959 - accuracy: 0.3200\n",
            "Epoch 4/7\n",
            "11/11 [==============================] - 0s 1ms/step - loss: 1.8498 - accuracy: 0.4133\n",
            "Epoch 5/7\n",
            "11/11 [==============================] - 0s 2ms/step - loss: 1.8163 - accuracy: 0.4667\n",
            "Epoch 6/7\n",
            "11/11 [==============================] - 0s 2ms/step - loss: 1.7664 - accuracy: 0.5600\n",
            "Epoch 7/7\n",
            "11/11 [==============================] - 0s 2ms/step - loss: 1.7155 - accuracy: 0.5867\n",
            "adam False 4 [10, 15, 10, 15]\n",
            "(75, 16) (75, 7)\n",
            "Epoch 1/7\n",
            "11/11 [==============================] - 0s 2ms/step - loss: 1.8839 - accuracy: 0.2267\n",
            "Epoch 2/7\n",
            "11/11 [==============================] - 0s 2ms/step - loss: 1.7696 - accuracy: 0.3333\n",
            "Epoch 3/7\n",
            "11/11 [==============================] - 0s 2ms/step - loss: 1.6708 - accuracy: 0.5200\n",
            "Epoch 4/7\n",
            "11/11 [==============================] - 0s 2ms/step - loss: 1.5981 - accuracy: 0.5600\n",
            "Epoch 5/7\n",
            "11/11 [==============================] - 0s 2ms/step - loss: 1.5485 - accuracy: 0.5600\n",
            "Epoch 6/7\n",
            "11/11 [==============================] - 0s 2ms/step - loss: 1.5085 - accuracy: 0.6667\n",
            "Epoch 7/7\n",
            "11/11 [==============================] - 0s 2ms/step - loss: 1.4719 - accuracy: 0.6800\n",
            "adam False 4 [16, 8, 4, 2]\n",
            "(75, 16) (75, 7)\n",
            "Epoch 1/7\n",
            "11/11 [==============================] - 0s 2ms/step - loss: 1.9398 - accuracy: 0.0800\n",
            "Epoch 2/7\n",
            "11/11 [==============================] - 0s 1ms/step - loss: 1.9120 - accuracy: 0.2533\n",
            "Epoch 3/7\n",
            "11/11 [==============================] - 0s 1ms/step - loss: 1.8912 - accuracy: 0.3200\n",
            "Epoch 4/7\n",
            "11/11 [==============================] - 0s 1ms/step - loss: 1.8658 - accuracy: 0.4000\n",
            "Epoch 5/7\n",
            "11/11 [==============================] - 0s 1ms/step - loss: 1.8422 - accuracy: 0.4000\n",
            "Epoch 6/7\n",
            "11/11 [==============================] - 0s 2ms/step - loss: 1.8115 - accuracy: 0.4667\n",
            "Epoch 7/7\n",
            "11/11 [==============================] - 0s 1ms/step - loss: 1.7786 - accuracy: 0.5200\n",
            "adam True 2 [10, 15]\n",
            "(75, 16) (75, 7)\n",
            "Epoch 1/7\n",
            "11/11 [==============================] - 0s 2ms/step - loss: 2.0948 - accuracy: 0.1067\n",
            "Epoch 2/7\n",
            "11/11 [==============================] - 0s 2ms/step - loss: 1.8985 - accuracy: 0.2800\n",
            "Epoch 3/7\n",
            "11/11 [==============================] - 0s 2ms/step - loss: 1.7656 - accuracy: 0.4933\n",
            "Epoch 4/7\n",
            "11/11 [==============================] - 0s 2ms/step - loss: 1.6482 - accuracy: 0.5200\n",
            "Epoch 5/7\n",
            "11/11 [==============================] - 0s 1ms/step - loss: 1.5250 - accuracy: 0.5200\n",
            "Epoch 6/7\n",
            "11/11 [==============================] - 0s 1ms/step - loss: 1.3959 - accuracy: 0.5333\n",
            "Epoch 7/7\n",
            "11/11 [==============================] - 0s 1ms/step - loss: 1.2679 - accuracy: 0.5600\n",
            "adam True 3 [10, 15, 10]\n",
            "(75, 16) (75, 7)\n",
            "Epoch 1/7\n",
            "11/11 [==============================] - 0s 2ms/step - loss: 1.7436 - accuracy: 0.1867\n",
            "Epoch 2/7\n",
            "11/11 [==============================] - 0s 2ms/step - loss: 1.6135 - accuracy: 0.4133\n",
            "Epoch 3/7\n",
            "11/11 [==============================] - 0s 2ms/step - loss: 1.4652 - accuracy: 0.6533\n",
            "Epoch 4/7\n",
            "11/11 [==============================] - 0s 2ms/step - loss: 1.3153 - accuracy: 0.6800\n",
            "Epoch 5/7\n",
            "11/11 [==============================] - 0s 1ms/step - loss: 1.1684 - accuracy: 0.7067\n",
            "Epoch 6/7\n",
            "11/11 [==============================] - 0s 2ms/step - loss: 1.0275 - accuracy: 0.7067\n",
            "Epoch 7/7\n",
            "11/11 [==============================] - 0s 1ms/step - loss: 0.9089 - accuracy: 0.7200\n",
            "adam True 3 [16, 8, 4]\n",
            "(75, 16) (75, 7)\n",
            "Epoch 1/7\n",
            "11/11 [==============================] - 0s 1ms/step - loss: 1.7690 - accuracy: 0.4133\n",
            "Epoch 2/7\n",
            "11/11 [==============================] - 0s 1ms/step - loss: 1.6434 - accuracy: 0.4133\n",
            "Epoch 3/7\n",
            "11/11 [==============================] - 0s 1ms/step - loss: 1.5190 - accuracy: 0.4133\n",
            "Epoch 4/7\n",
            "11/11 [==============================] - 0s 2ms/step - loss: 1.3927 - accuracy: 0.4267\n",
            "Epoch 5/7\n",
            "11/11 [==============================] - 0s 2ms/step - loss: 1.2886 - accuracy: 0.4667\n",
            "Epoch 6/7\n",
            "11/11 [==============================] - 0s 1ms/step - loss: 1.1857 - accuracy: 0.4800\n",
            "Epoch 7/7\n",
            "11/11 [==============================] - 0s 1ms/step - loss: 1.0971 - accuracy: 0.5467\n",
            "adam True 4 [10, 15, 10, 15]\n",
            "(75, 16) (75, 7)\n",
            "Epoch 1/7\n",
            "11/11 [==============================] - 0s 2ms/step - loss: 1.9427 - accuracy: 0.0800\n",
            "Epoch 2/7\n",
            "11/11 [==============================] - 0s 2ms/step - loss: 1.8969 - accuracy: 0.2800\n",
            "Epoch 3/7\n",
            "11/11 [==============================] - 0s 2ms/step - loss: 1.8455 - accuracy: 0.5200\n",
            "Epoch 4/7\n",
            "11/11 [==============================] - 0s 2ms/step - loss: 1.7701 - accuracy: 0.4933\n",
            "Epoch 5/7\n",
            "11/11 [==============================] - 0s 2ms/step - loss: 1.6705 - accuracy: 0.4800\n",
            "Epoch 6/7\n",
            "11/11 [==============================] - 0s 2ms/step - loss: 1.5175 - accuracy: 0.4133\n",
            "Epoch 7/7\n",
            "11/11 [==============================] - 0s 2ms/step - loss: 1.3390 - accuracy: 0.4933\n",
            "adam True 4 [16, 8, 4, 2]\n",
            "(75, 16) (75, 7)\n",
            "Epoch 1/7\n",
            "11/11 [==============================] - 0s 1ms/step - loss: 1.9206 - accuracy: 0.3600\n",
            "Epoch 2/7\n",
            "11/11 [==============================] - 0s 1ms/step - loss: 1.9017 - accuracy: 0.4400\n",
            "Epoch 3/7\n",
            "11/11 [==============================] - 0s 1ms/step - loss: 1.8856 - accuracy: 0.4667\n",
            "Epoch 4/7\n",
            "11/11 [==============================] - 0s 2ms/step - loss: 1.8707 - accuracy: 0.4800\n",
            "Epoch 5/7\n",
            "11/11 [==============================] - 0s 2ms/step - loss: 1.8535 - accuracy: 0.4800\n",
            "Epoch 6/7\n",
            "11/11 [==============================] - 0s 1ms/step - loss: 1.8397 - accuracy: 0.4933\n",
            "Epoch 7/7\n",
            "11/11 [==============================] - 0s 1ms/step - loss: 1.8242 - accuracy: 0.4933\n",
            "rmsprop False 2 [10, 15]\n",
            "(75, 16) (75, 7)\n",
            "Epoch 1/7\n",
            "11/11 [==============================] - 0s 1ms/step - loss: 1.8920 - accuracy: 0.2667\n",
            "Epoch 2/7\n",
            "11/11 [==============================] - 0s 1ms/step - loss: 1.7225 - accuracy: 0.4133\n",
            "Epoch 3/7\n",
            "11/11 [==============================] - 0s 1ms/step - loss: 1.5934 - accuracy: 0.4267\n",
            "Epoch 4/7\n",
            "11/11 [==============================] - 0s 2ms/step - loss: 1.4672 - accuracy: 0.4533\n",
            "Epoch 5/7\n",
            "11/11 [==============================] - 0s 1ms/step - loss: 1.3488 - accuracy: 0.4800\n",
            "Epoch 6/7\n",
            "11/11 [==============================] - 0s 1ms/step - loss: 1.2427 - accuracy: 0.4800\n",
            "Epoch 7/7\n",
            "11/11 [==============================] - 0s 1ms/step - loss: 1.1538 - accuracy: 0.5333\n",
            "rmsprop False 3 [10, 15, 10]\n",
            "(75, 16) (75, 7)\n",
            "Epoch 1/7\n",
            "11/11 [==============================] - 0s 1ms/step - loss: 1.8851 - accuracy: 0.2800\n",
            "Epoch 2/7\n",
            "11/11 [==============================] - 0s 1ms/step - loss: 1.7242 - accuracy: 0.4000\n",
            "Epoch 3/7\n",
            "11/11 [==============================] - 0s 1ms/step - loss: 1.5961 - accuracy: 0.4267\n",
            "Epoch 4/7\n",
            "11/11 [==============================] - 0s 2ms/step - loss: 1.4675 - accuracy: 0.4533\n",
            "Epoch 5/7\n",
            "11/11 [==============================] - 0s 1ms/step - loss: 1.3375 - accuracy: 0.5067\n",
            "Epoch 6/7\n",
            "11/11 [==============================] - 0s 1ms/step - loss: 1.2256 - accuracy: 0.6000\n",
            "Epoch 7/7\n",
            "11/11 [==============================] - 0s 1ms/step - loss: 1.1362 - accuracy: 0.6133\n",
            "rmsprop False 3 [16, 8, 4]\n",
            "(75, 16) (75, 7)\n",
            "Epoch 1/7\n",
            "11/11 [==============================] - 0s 1ms/step - loss: 2.1413 - accuracy: 0.0533\n",
            "Epoch 2/7\n",
            "11/11 [==============================] - 0s 2ms/step - loss: 2.0266 - accuracy: 0.0533\n",
            "Epoch 3/7\n",
            "11/11 [==============================] - 0s 1ms/step - loss: 1.9706 - accuracy: 0.0800\n",
            "Epoch 4/7\n",
            "11/11 [==============================] - 0s 1ms/step - loss: 1.9330 - accuracy: 0.1467\n",
            "Epoch 5/7\n",
            "11/11 [==============================] - 0s 1ms/step - loss: 1.9080 - accuracy: 0.2800\n",
            "Epoch 6/7\n",
            "11/11 [==============================] - 0s 1ms/step - loss: 1.8881 - accuracy: 0.3600\n",
            "Epoch 7/7\n",
            "11/11 [==============================] - 0s 1ms/step - loss: 1.8691 - accuracy: 0.3867\n",
            "rmsprop False 4 [10, 15, 10, 15]\n",
            "(75, 16) (75, 7)\n",
            "Epoch 1/7\n",
            "11/11 [==============================] - 0s 1ms/step - loss: 1.8057 - accuracy: 0.4000\n",
            "Epoch 2/7\n",
            "11/11 [==============================] - 0s 1ms/step - loss: 1.6373 - accuracy: 0.4133\n",
            "Epoch 3/7\n",
            "11/11 [==============================] - 0s 1ms/step - loss: 1.4858 - accuracy: 0.4133\n",
            "Epoch 4/7\n",
            "11/11 [==============================] - 0s 1ms/step - loss: 1.3580 - accuracy: 0.4133\n",
            "Epoch 5/7\n",
            "11/11 [==============================] - 0s 1ms/step - loss: 1.2708 - accuracy: 0.4133\n",
            "Epoch 6/7\n",
            "11/11 [==============================] - 0s 1ms/step - loss: 1.2179 - accuracy: 0.4133\n",
            "Epoch 7/7\n",
            "11/11 [==============================] - 0s 1ms/step - loss: 1.1843 - accuracy: 0.4133\n",
            "rmsprop False 4 [16, 8, 4, 2]\n",
            "(75, 16) (75, 7)\n",
            "Epoch 1/7\n",
            "11/11 [==============================] - 0s 2ms/step - loss: 1.9756 - accuracy: 0.2000\n",
            "Epoch 2/7\n",
            "11/11 [==============================] - 0s 2ms/step - loss: 1.9114 - accuracy: 0.2000\n",
            "Epoch 3/7\n",
            "11/11 [==============================] - 0s 2ms/step - loss: 1.8703 - accuracy: 0.3733\n",
            "Epoch 4/7\n",
            "11/11 [==============================] - 0s 2ms/step - loss: 1.8363 - accuracy: 0.4267\n",
            "Epoch 5/7\n",
            "11/11 [==============================] - 0s 2ms/step - loss: 1.7958 - accuracy: 0.4800\n",
            "Epoch 6/7\n",
            "11/11 [==============================] - 0s 2ms/step - loss: 1.7532 - accuracy: 0.5067\n",
            "Epoch 7/7\n",
            "11/11 [==============================] - 0s 2ms/step - loss: 1.7087 - accuracy: 0.5733\n",
            "rmsprop True 2 [10, 15]\n",
            "(75, 16) (75, 7)\n",
            "Epoch 1/7\n",
            "11/11 [==============================] - 0s 1ms/step - loss: 1.7412 - accuracy: 0.4800\n",
            "Epoch 2/7\n",
            "11/11 [==============================] - 0s 1ms/step - loss: 1.5309 - accuracy: 0.6133\n",
            "Epoch 3/7\n",
            "11/11 [==============================] - 0s 1ms/step - loss: 1.3667 - accuracy: 0.6667\n",
            "Epoch 4/7\n",
            "11/11 [==============================] - 0s 2ms/step - loss: 1.2163 - accuracy: 0.6667\n",
            "Epoch 5/7\n",
            "11/11 [==============================] - 0s 2ms/step - loss: 1.0812 - accuracy: 0.6800\n",
            "Epoch 6/7\n",
            "11/11 [==============================] - 0s 1ms/step - loss: 0.9637 - accuracy: 0.6800\n",
            "Epoch 7/7\n",
            "11/11 [==============================] - 0s 1ms/step - loss: 0.8672 - accuracy: 0.6933\n",
            "rmsprop True 3 [10, 15, 10]\n",
            "(75, 16) (75, 7)\n",
            "Epoch 1/7\n",
            "11/11 [==============================] - 0s 2ms/step - loss: 1.9555 - accuracy: 0.0800\n",
            "Epoch 2/7\n",
            "11/11 [==============================] - 0s 1ms/step - loss: 1.8317 - accuracy: 0.2400\n",
            "Epoch 3/7\n",
            "11/11 [==============================] - 0s 1ms/step - loss: 1.7201 - accuracy: 0.4133\n",
            "Epoch 4/7\n",
            "11/11 [==============================] - 0s 2ms/step - loss: 1.5921 - accuracy: 0.4533\n",
            "Epoch 5/7\n",
            "11/11 [==============================] - 0s 1ms/step - loss: 1.4514 - accuracy: 0.4667\n",
            "Epoch 6/7\n",
            "11/11 [==============================] - 0s 2ms/step - loss: 1.3220 - accuracy: 0.4800\n",
            "Epoch 7/7\n",
            "11/11 [==============================] - 0s 2ms/step - loss: 1.2100 - accuracy: 0.5733\n",
            "rmsprop True 3 [16, 8, 4]\n",
            "(75, 16) (75, 7)\n",
            "Epoch 1/7\n",
            "11/11 [==============================] - 0s 2ms/step - loss: 1.8979 - accuracy: 0.4267\n",
            "Epoch 2/7\n",
            "11/11 [==============================] - 0s 1ms/step - loss: 1.7666 - accuracy: 0.4267\n",
            "Epoch 3/7\n",
            "11/11 [==============================] - 0s 2ms/step - loss: 1.6036 - accuracy: 0.4267\n",
            "Epoch 4/7\n",
            "11/11 [==============================] - 0s 1ms/step - loss: 1.4754 - accuracy: 0.4533\n",
            "Epoch 5/7\n",
            "11/11 [==============================] - 0s 1ms/step - loss: 1.3636 - accuracy: 0.5333\n",
            "Epoch 6/7\n",
            "11/11 [==============================] - 0s 1ms/step - loss: 1.2665 - accuracy: 0.6133\n",
            "Epoch 7/7\n",
            "11/11 [==============================] - 0s 1ms/step - loss: 1.1855 - accuracy: 0.6133\n",
            "rmsprop True 4 [10, 15, 10, 15]\n",
            "(75, 16) (75, 7)\n",
            "Epoch 1/7\n",
            "11/11 [==============================] - 0s 2ms/step - loss: 1.8398 - accuracy: 0.3467\n",
            "Epoch 2/7\n",
            "11/11 [==============================] - 0s 1ms/step - loss: 1.6586 - accuracy: 0.4000\n",
            "Epoch 3/7\n",
            "11/11 [==============================] - 0s 1ms/step - loss: 1.5135 - accuracy: 0.4133\n",
            "Epoch 4/7\n",
            "11/11 [==============================] - 0s 1ms/step - loss: 1.3807 - accuracy: 0.4133\n",
            "Epoch 5/7\n",
            "11/11 [==============================] - 0s 1ms/step - loss: 1.2757 - accuracy: 0.4800\n",
            "Epoch 6/7\n",
            "11/11 [==============================] - 0s 1ms/step - loss: 1.1908 - accuracy: 0.6267\n",
            "Epoch 7/7\n",
            "11/11 [==============================] - 0s 1ms/step - loss: 1.1239 - accuracy: 0.6533\n",
            "rmsprop True 4 [16, 8, 4, 2]\n",
            "(75, 16) (75, 7)\n",
            "Epoch 1/7\n",
            "11/11 [==============================] - 0s 2ms/step - loss: 1.9357 - accuracy: 0.4133\n",
            "Epoch 2/7\n",
            "11/11 [==============================] - 0s 1ms/step - loss: 1.9119 - accuracy: 0.4133\n",
            "Epoch 3/7\n",
            "11/11 [==============================] - 0s 1ms/step - loss: 1.8862 - accuracy: 0.4133\n",
            "Epoch 4/7\n",
            "11/11 [==============================] - 0s 1ms/step - loss: 1.8571 - accuracy: 0.4133\n",
            "Epoch 5/7\n",
            "11/11 [==============================] - 0s 1ms/step - loss: 1.8218 - accuracy: 0.4133\n",
            "Epoch 6/7\n",
            "11/11 [==============================] - 0s 1ms/step - loss: 1.7796 - accuracy: 0.4133\n",
            "Epoch 7/7\n",
            "11/11 [==============================] - 0s 1ms/step - loss: 1.7296 - accuracy: 0.4133\n",
            "['adam', False, 2, [10, 15]]\n",
            "[0.1733333319425583, 0.4266666769981384, 0.5866666436195374, 0.6399999856948853, 0.7733333110809326, 0.7866666913032532, 0.7866666913032532]\n",
            "['adam', False, 3, [10, 15, 10]]\n",
            "[0.4266666769981384, 0.5733333230018616, 0.5866666436195374, 0.6133333444595337, 0.6133333444595337, 0.6133333444595337, 0.6133333444595337]\n",
            "['adam', False, 3, [16, 8, 4]]\n",
            "[0.09333333373069763, 0.2933333218097687, 0.3199999928474426, 0.41333332657814026, 0.46666666865348816, 0.5600000023841858, 0.5866666436195374]\n",
            "['adam', False, 4, [10, 15, 10, 15]]\n",
            "[0.2266666740179062, 0.3333333432674408, 0.5199999809265137, 0.5600000023841858, 0.5600000023841858, 0.6666666865348816, 0.6800000071525574]\n",
            "['adam', False, 4, [16, 8, 4, 2]]\n",
            "[0.07999999821186066, 0.25333333015441895, 0.3199999928474426, 0.4000000059604645, 0.4000000059604645, 0.46666666865348816, 0.5199999809265137]\n",
            "['adam', True, 2, [10, 15]]\n",
            "[0.1066666692495346, 0.2800000011920929, 0.4933333396911621, 0.5199999809265137, 0.5199999809265137, 0.5333333611488342, 0.5600000023841858]\n",
            "['adam', True, 3, [10, 15, 10]]\n",
            "[0.18666666746139526, 0.41333332657814026, 0.653333306312561, 0.6800000071525574, 0.7066666483879089, 0.7066666483879089, 0.7200000286102295]\n",
            "['adam', True, 3, [16, 8, 4]]\n",
            "[0.41333332657814026, 0.41333332657814026, 0.41333332657814026, 0.4266666769981384, 0.46666666865348816, 0.47999998927116394, 0.54666668176651]\n",
            "['adam', True, 4, [10, 15, 10, 15]]\n",
            "[0.07999999821186066, 0.2800000011920929, 0.5199999809265137, 0.4933333396911621, 0.47999998927116394, 0.41333332657814026, 0.4933333396911621]\n",
            "['adam', True, 4, [16, 8, 4, 2]]\n",
            "[0.36000001430511475, 0.4399999976158142, 0.46666666865348816, 0.47999998927116394, 0.47999998927116394, 0.4933333396911621, 0.4933333396911621]\n",
            "['rmsprop', False, 2, [10, 15]]\n",
            "[0.2666666805744171, 0.41333332657814026, 0.4266666769981384, 0.4533333480358124, 0.47999998927116394, 0.47999998927116394, 0.5333333611488342]\n",
            "['rmsprop', False, 3, [10, 15, 10]]\n",
            "[0.2800000011920929, 0.4000000059604645, 0.4266666769981384, 0.4533333480358124, 0.5066666603088379, 0.6000000238418579, 0.6133333444595337]\n",
            "['rmsprop', False, 3, [16, 8, 4]]\n",
            "[0.0533333346247673, 0.0533333346247673, 0.07999999821186066, 0.14666666090488434, 0.2800000011920929, 0.36000001430511475, 0.3866666555404663]\n",
            "['rmsprop', False, 4, [10, 15, 10, 15]]\n",
            "[0.4000000059604645, 0.41333332657814026, 0.41333332657814026, 0.41333332657814026, 0.41333332657814026, 0.41333332657814026, 0.41333332657814026]\n",
            "['rmsprop', False, 4, [16, 8, 4, 2]]\n",
            "[0.20000000298023224, 0.20000000298023224, 0.3733333349227905, 0.4266666769981384, 0.47999998927116394, 0.5066666603088379, 0.5733333230018616]\n",
            "['rmsprop', True, 2, [10, 15]]\n",
            "[0.47999998927116394, 0.6133333444595337, 0.6666666865348816, 0.6666666865348816, 0.6800000071525574, 0.6800000071525574, 0.6933333277702332]\n",
            "['rmsprop', True, 3, [10, 15, 10]]\n",
            "[0.07999999821186066, 0.23999999463558197, 0.41333332657814026, 0.4533333480358124, 0.46666666865348816, 0.47999998927116394, 0.5733333230018616]\n",
            "['rmsprop', True, 3, [16, 8, 4]]\n",
            "[0.4266666769981384, 0.4266666769981384, 0.4266666769981384, 0.4533333480358124, 0.5333333611488342, 0.6133333444595337, 0.6133333444595337]\n",
            "['rmsprop', True, 4, [10, 15, 10, 15]]\n",
            "[0.3466666638851166, 0.4000000059604645, 0.41333332657814026, 0.41333332657814026, 0.47999998927116394, 0.6266666650772095, 0.653333306312561]\n",
            "['rmsprop', True, 4, [16, 8, 4, 2]]\n",
            "[0.41333332657814026, 0.41333332657814026, 0.41333332657814026, 0.41333332657814026, 0.41333332657814026, 0.41333332657814026, 0.41333332657814026]\n"
          ],
          "name": "stdout"
        }
      ]
    }
  ]
}