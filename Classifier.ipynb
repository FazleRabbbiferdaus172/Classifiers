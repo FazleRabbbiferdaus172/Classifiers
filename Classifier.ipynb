{
  "nbformat": 4,
  "nbformat_minor": 0,
  "metadata": {
    "colab": {
      "name": "Classifier.ipynb",
      "provenance": [],
      "authorship_tag": "ABX9TyOxYmlT50eQ8e43eeVkBqES",
      "include_colab_link": true
    },
    "kernelspec": {
      "name": "python3",
      "display_name": "Python 3"
    }
  },
  "cells": [
    {
      "cell_type": "markdown",
      "metadata": {
        "id": "view-in-github",
        "colab_type": "text"
      },
      "source": [
        "<a href=\"https://colab.research.google.com/github/FazleRabbbiferdaus172/Classifiers/blob/master/Classifier.ipynb\" target=\"_parent\"><img src=\"https://colab.research.google.com/assets/colab-badge.svg\" alt=\"Open In Colab\"/></a>"
      ]
    },
    {
      "cell_type": "markdown",
      "metadata": {
        "id": "qCz80RlVZpUn",
        "colab_type": "text"
      },
      "source": [
        "#Import Libraries"
      ]
    },
    {
      "cell_type": "code",
      "metadata": {
        "id": "Kdo8qDrUY2pq",
        "colab_type": "code",
        "colab": {}
      },
      "source": [
        "from google.colab import drive\n",
        "import numpy as np\n",
        "import matplotlib.pyplot as plt\n",
        "import pandas as pd\n",
        "from sklearn.model_selection import train_test_split"
      ],
      "execution_count": null,
      "outputs": []
    },
    {
      "cell_type": "markdown",
      "metadata": {
        "id": "54mvtRJwaA2H",
        "colab_type": "text"
      },
      "source": [
        "#Mount Drive"
      ]
    },
    {
      "cell_type": "code",
      "metadata": {
        "id": "ubOWXkQiZ3D1",
        "colab_type": "code",
        "colab": {}
      },
      "source": [
        "drive.mount('/content/gdrive')\n",
        "fruit_data_url = '/content/gdrive/My Drive/Data_set/fruit_data_with_colors.txt'\n",
        "bank_note_url = '/content/gdrive/My Drive/Data_set/data_banknote_authentication.txt'\n",
        "zoo_url = '/content/gdrive/My Drive/Data_set/zoo.data'\n",
        "abalone_url = '/content/gdrive/My Drive/Data_set/abalone.data'\n",
        "seed_url = '/content/gdrive/My Drive/Data_set/seeds_dataset.txt'"
      ],
      "execution_count": null,
      "outputs": []
    },
    {
      "cell_type": "markdown",
      "metadata": {
        "id": "9gZDY9MsbDBw",
        "colab_type": "text"
      },
      "source": [
        "#Loading Data\n"
      ]
    },
    {
      "cell_type": "code",
      "metadata": {
        "id": "HTomtJCjbG5_",
        "colab_type": "code",
        "colab": {
          "base_uri": "https://localhost:8080/",
          "height": 54
        },
        "outputId": "1de03244-e322-4c7d-eac0-85a626bb8950"
      },
      "source": [
        "b_columns = ['variance','skewness','curtosis', 'entropy','class']\n",
        "z_columns = ['name', 'hair', 'feathers', 'eggs', 'milk', 'airborne', 'aquatic', 'predator', 'toothed', 'backbone', 'breathes', 'venomous', 'fins', 'legs', 'tail', 'domestic', 'catsize', 'type']\n",
        "a_columns = ['Sex' ,'Length' ,'Diameter' ,'Height' ,'Whole weight' ,'Shucked weight' ,'Viscera weight' ,'Shell weight' ,'Rings']\n",
        "#s_columns = ['area', 'perimeter', 'compactness', 'length', 'width', 'asymmetry', 'length', 'type']\n",
        "fruits = pd.read_table(fruit_data_url)\n",
        "banks = pd.read_csv(bank_note_url,names=b_columns)\n",
        "zoo = pd.read_csv(zoo_url,names=z_columns)\n",
        "abalone = pd.read_csv(abalone_url,names=a_columns)\n",
        "seed = pd.read_csv(seed_url,sep='\\t',error_bad_lines=False)\n",
        "#banks.head()"
      ],
      "execution_count": null,
      "outputs": [
        {
          "output_type": "stream",
          "text": [
            "b'Skipping line 8: expected 8 fields, saw 10\\nSkipping line 36: expected 8 fields, saw 10\\nSkipping line 61: expected 8 fields, saw 9\\nSkipping line 69: expected 8 fields, saw 9\\nSkipping line 107: expected 8 fields, saw 9\\nSkipping line 136: expected 8 fields, saw 9\\nSkipping line 170: expected 8 fields, saw 9\\nSkipping line 171: expected 8 fields, saw 9\\nSkipping line 173: expected 8 fields, saw 9\\nSkipping line 202: expected 8 fields, saw 9\\nSkipping line 204: expected 8 fields, saw 9\\n'\n"
          ],
          "name": "stderr"
        }
      ]
    },
    {
      "cell_type": "markdown",
      "metadata": {
        "id": "8Iie9VwHmN-q",
        "colab_type": "text"
      },
      "source": [
        "#Adding the missing feature names"
      ]
    },
    {
      "cell_type": "code",
      "metadata": {
        "id": "CFV-JZeymLAQ",
        "colab_type": "code",
        "colab": {}
      },
      "source": [
        "#banks.columns = ['variance','skewness','curtosis', 'entropy','class']\n",
        "#zoo.columns = ['name', 'hair', 'feathers', 'eggs', 'milk', 'airborne', 'aquatic', 'predator', 'toothed', 'backbone', 'breathes', 'venomous', 'fins', 'legs', 'tail', 'domestic', 'catsize', 'type']\n",
        "#abalone.columns = ['Sex' ,'Length' ,'Diameter' ,'Height' ,'Whole weight' ,'Shucked weight' ,'Viscera weight' ,'Shell weight' ,'Rings']\n",
        "seed.columns = ['area', 'perimeter', 'compactness', 'length', 'width', 'asymmetry', 'length', 'type']\n",
        "#banks.head()\n",
        "banks_c = banks.columns[:-1]\n",
        "banks_l = banks.columns[-1]\n",
        "\n",
        "zoo_c = zoo.columns[1:-1]\n",
        "zoo_l = zoo.columns[-1]\n",
        "\n",
        "abalone_c = abalone.columns[:-1]\n",
        "abalone_l = abalone.columns[-1]\n",
        "\n",
        "seed_c = seed.columns[:-1]\n",
        "seed_l = seed.columns[-1]"
      ],
      "execution_count": null,
      "outputs": []
    },
    {
      "cell_type": "markdown",
      "metadata": {
        "id": "PhJVBTQom14G",
        "colab_type": "text"
      },
      "source": [
        "#Categorical Variables to numerical variables"
      ]
    },
    {
      "cell_type": "code",
      "metadata": {
        "id": "Zjumd0n1m_Bo",
        "colab_type": "code",
        "colab": {
          "base_uri": "https://localhost:8080/",
          "height": 204
        },
        "outputId": "0d3fe6c5-c73f-4532-f1f5-6af9f816d59f"
      },
      "source": [
        "from sklearn.preprocessing import LabelEncoder\n",
        "number = LabelEncoder()\n",
        "abalone['Sex'] = number.fit_transform(abalone['Sex'].astype('str'))\n",
        "abalone.head()"
      ],
      "execution_count": null,
      "outputs": [
        {
          "output_type": "execute_result",
          "data": {
            "text/html": [
              "<div>\n",
              "<style scoped>\n",
              "    .dataframe tbody tr th:only-of-type {\n",
              "        vertical-align: middle;\n",
              "    }\n",
              "\n",
              "    .dataframe tbody tr th {\n",
              "        vertical-align: top;\n",
              "    }\n",
              "\n",
              "    .dataframe thead th {\n",
              "        text-align: right;\n",
              "    }\n",
              "</style>\n",
              "<table border=\"1\" class=\"dataframe\">\n",
              "  <thead>\n",
              "    <tr style=\"text-align: right;\">\n",
              "      <th></th>\n",
              "      <th>Sex</th>\n",
              "      <th>Length</th>\n",
              "      <th>Diameter</th>\n",
              "      <th>Height</th>\n",
              "      <th>Whole weight</th>\n",
              "      <th>Shucked weight</th>\n",
              "      <th>Viscera weight</th>\n",
              "      <th>Shell weight</th>\n",
              "      <th>Rings</th>\n",
              "    </tr>\n",
              "  </thead>\n",
              "  <tbody>\n",
              "    <tr>\n",
              "      <th>0</th>\n",
              "      <td>2</td>\n",
              "      <td>0.455</td>\n",
              "      <td>0.365</td>\n",
              "      <td>0.095</td>\n",
              "      <td>0.5140</td>\n",
              "      <td>0.2245</td>\n",
              "      <td>0.1010</td>\n",
              "      <td>0.150</td>\n",
              "      <td>15</td>\n",
              "    </tr>\n",
              "    <tr>\n",
              "      <th>1</th>\n",
              "      <td>2</td>\n",
              "      <td>0.350</td>\n",
              "      <td>0.265</td>\n",
              "      <td>0.090</td>\n",
              "      <td>0.2255</td>\n",
              "      <td>0.0995</td>\n",
              "      <td>0.0485</td>\n",
              "      <td>0.070</td>\n",
              "      <td>7</td>\n",
              "    </tr>\n",
              "    <tr>\n",
              "      <th>2</th>\n",
              "      <td>0</td>\n",
              "      <td>0.530</td>\n",
              "      <td>0.420</td>\n",
              "      <td>0.135</td>\n",
              "      <td>0.6770</td>\n",
              "      <td>0.2565</td>\n",
              "      <td>0.1415</td>\n",
              "      <td>0.210</td>\n",
              "      <td>9</td>\n",
              "    </tr>\n",
              "    <tr>\n",
              "      <th>3</th>\n",
              "      <td>2</td>\n",
              "      <td>0.440</td>\n",
              "      <td>0.365</td>\n",
              "      <td>0.125</td>\n",
              "      <td>0.5160</td>\n",
              "      <td>0.2155</td>\n",
              "      <td>0.1140</td>\n",
              "      <td>0.155</td>\n",
              "      <td>10</td>\n",
              "    </tr>\n",
              "    <tr>\n",
              "      <th>4</th>\n",
              "      <td>1</td>\n",
              "      <td>0.330</td>\n",
              "      <td>0.255</td>\n",
              "      <td>0.080</td>\n",
              "      <td>0.2050</td>\n",
              "      <td>0.0895</td>\n",
              "      <td>0.0395</td>\n",
              "      <td>0.055</td>\n",
              "      <td>7</td>\n",
              "    </tr>\n",
              "  </tbody>\n",
              "</table>\n",
              "</div>"
            ],
            "text/plain": [
              "   Sex  Length  Diameter  ...  Viscera weight  Shell weight  Rings\n",
              "0    2   0.455     0.365  ...          0.1010         0.150     15\n",
              "1    2   0.350     0.265  ...          0.0485         0.070      7\n",
              "2    0   0.530     0.420  ...          0.1415         0.210      9\n",
              "3    2   0.440     0.365  ...          0.1140         0.155     10\n",
              "4    1   0.330     0.255  ...          0.0395         0.055      7\n",
              "\n",
              "[5 rows x 9 columns]"
            ]
          },
          "metadata": {
            "tags": []
          },
          "execution_count": 6
        }
      ]
    },
    {
      "cell_type": "markdown",
      "metadata": {
        "id": "YdEfEpT0db1t",
        "colab_type": "text"
      },
      "source": [
        "#Creating a mapping from label value to class name"
      ]
    },
    {
      "cell_type": "code",
      "metadata": {
        "id": "1eYEAr9Fdj_U",
        "colab_type": "code",
        "colab": {
          "base_uri": "https://localhost:8080/",
          "height": 34
        },
        "outputId": "860290d5-acec-4e63-ccf4-3c6204b41e1b"
      },
      "source": [
        "lookup_fruit_name = dict(zip(fruits.fruit_label.unique(), fruits.fruit_name.unique()))\n",
        "lookup_fruit_name"
      ],
      "execution_count": null,
      "outputs": [
        {
          "output_type": "execute_result",
          "data": {
            "text/plain": [
              "{1: 'apple', 2: 'mandarin', 3: 'orange', 4: 'lemon'}"
            ]
          },
          "metadata": {
            "tags": []
          },
          "execution_count": 7
        }
      ]
    },
    {
      "cell_type": "markdown",
      "metadata": {
        "id": "vZmuRbJLe3LI",
        "colab_type": "text"
      },
      "source": [
        "#Spliting training and test data"
      ]
    },
    {
      "cell_type": "code",
      "metadata": {
        "id": "0FBr7W5De9bt",
        "colab_type": "code",
        "colab": {}
      },
      "source": [
        "fruits_X = fruits[['height', 'width', 'mass', 'color_score']]\n",
        "fruits_y = fruits['fruit_label']\n",
        "fruits_X_train, fruits_X_test, fruits_y_train, fruits_y_test = train_test_split(fruits_X, fruits_y, random_state=0)\n",
        "\n",
        "\n",
        "banks_X = banks[banks_c]\n",
        "banks_y = banks[banks_l]\n",
        "banks_X_train, banks_X_test, banks_y_train, banks_y_test = train_test_split(banks_X, banks_y, random_state=0)\n",
        "\n",
        "zoo_X = zoo[zoo_c]\n",
        "zoo_y = zoo[zoo_l]\n",
        "zoo_X_train, zoo_X_test, zoo_y_train, zoo_y_test = train_test_split(zoo_X, zoo_y, random_state=0)\n",
        "\n",
        "abalone_X = abalone[abalone_c]\n",
        "abalone_y = abalone[abalone_l]\n",
        "abalone_X_train, abalone_X_test, abalone_y_train, abalone_y_test = train_test_split(abalone_X, abalone_y, random_state = 0)\n",
        "\n",
        "seed_X = seed[seed_c]\n",
        "seed_y = seed[seed_l]\n",
        "seed_X_train, seed_X_test, seed_y_train, seed_y_test = train_test_split(seed_X,seed_y, random_state=0)\n",
        "\n",
        "\n",
        "data_set = [[fruits_X_train, fruits_X_test, fruits_y_train, fruits_y_test],[banks_X_train, banks_X_test, banks_y_train, banks_y_test],[zoo_X_train, zoo_X_test, zoo_y_train, zoo_y_test],[abalone_X_train, abalone_X_test, abalone_y_train, abalone_y_test],[seed_X_train, seed_X_test, seed_y_train, seed_y_test]]"
      ],
      "execution_count": null,
      "outputs": []
    },
    {
      "cell_type": "markdown",
      "metadata": {
        "id": "IdPmSYqojORg",
        "colab_type": "text"
      },
      "source": [
        "#2D DATA visualization"
      ]
    },
    {
      "cell_type": "code",
      "metadata": {
        "id": "-ERNg2VOjY-M",
        "colab_type": "code",
        "colab": {}
      },
      "source": [
        "from matplotlib import cm\n",
        "from pandas.plotting import scatter_matrix\n",
        "cmap = cm.get_cmap('gnuplot')\n",
        "#scatter = scatter_matrix(fruits_X_train, c = fruits_y_train, marker = 'o', s=40, hist_kwds={'bins':15}, figsize=(9,9),cmap=cmap)\n",
        "scatter = scatter_matrix(banks_X_train, c = banks_y_train, marker = 'o', s=40, hist_kwds={'bins':15}, figsize=(9,9),cmap=cmap)"
      ],
      "execution_count": null,
      "outputs": []
    },
    {
      "cell_type": "markdown",
      "metadata": {
        "id": "Q_CPh1nAk9eX",
        "colab_type": "text"
      },
      "source": [
        "#3D DATA VISUALIZATION"
      ]
    },
    {
      "cell_type": "code",
      "metadata": {
        "id": "J4orYa8rlDBT",
        "colab_type": "code",
        "colab": {}
      },
      "source": [
        "from mpl_toolkits.mplot3d import Axes3D\n",
        "\n",
        "fig = plt.figure()\n",
        "ax = fig.add_subplot(111, projection = '3d')\n",
        "ax.scatter(fruits_X_train['width'], fruits_X_train['height'], fruits_X_train['color_score'], c = fruits_y_train,marker = 'o', s=100)\n",
        "ax.set_xlabel('width')\n",
        "ax.set_ylabel('height')\n",
        "ax.set_zlabel('color_score')\n",
        "plt.show()"
      ],
      "execution_count": null,
      "outputs": []
    },
    {
      "cell_type": "markdown",
      "metadata": {
        "id": "ujsRhYrxVQLW",
        "colab_type": "text"
      },
      "source": [
        "#Create classifier object"
      ]
    },
    {
      "cell_type": "code",
      "metadata": {
        "id": "rOIGzJZ9Vaua",
        "colab_type": "code",
        "colab": {}
      },
      "source": [
        "from sklearn.neighbors import KNeighborsClassifier\n",
        "from sklearn.linear_model import LogisticRegression\n",
        "from sklearn.svm import SVC\n",
        "from sklearn.tree import DecisionTreeClassifier\n",
        "from sklearn.ensemble import RandomForestClassifier\n",
        "\n",
        "'''f_knn = KNeighborsClassifier(n_neighbors=3)\n",
        "b_knn = KNeighborsClassifier(n_neighbors=3)\n",
        "z_knn = KNeighborsClassifier(n_neighbors=3)\n",
        "a_knn = KNeighborsClassifier(n_neighbors=12)\n",
        "s_knn = KNeighborsClassifier(n_neighbors=5)\n",
        "\n",
        "f_lr = LogisticRegression(multi_class='multinomial', solver = 'newton-cg')\n",
        "b_lr = LogisticRegression()\n",
        "z_lr = LogisticRegression(multi_class='multinomial', solver = 'newton-cg')\n",
        "a_lr = LogisticRegression(multi_class='multinomial', solver = 'newton-cg')\n",
        "s_lr = LogisticRegression(multi_class='multinomial', solver = 'newton-cg')\n",
        "\n",
        "f_svc = SVC(kernel = 'linear', C = 1)\n",
        "b_svc = SVC(kernel = 'linear', C = 1)\n",
        "z_svc = SVC(kernel = 'linear', C = 1)\n",
        "a_svc = SVC(kernel = 'linear', C = 1)\n",
        "s_svc = SVC(kernel = 'linear', C = 1)\n",
        "\n",
        "f_dtc = DecisionTreeClassifier(max_depth = 2)\n",
        "b_dtc = DecisionTreeClassifier(max_depth = 2)\n",
        "z_dtc = DecisionTreeClassifier(max_depth = 2)\n",
        "a_dtc = DecisionTreeClassifier(max_depth = 2)\n",
        "s_dtc = DecisionTreeClassifier(max_depth = 2)\n",
        "\n",
        "f_rtc = RandomForestClassifier(n_estimators=100)\n",
        "b_rtc = RandomForestClassifier(n_estimators=100)\n",
        "z_rtc = RandomForestClassifier(n_estimators=100)\n",
        "a_rtc = RandomForestClassifier(n_estimators=100)\n",
        "s_rtc = RandomForestClassifier(n_estimators=100)'''\n",
        "\n",
        "\n",
        "knn = KNeighborsClassifier(n_neighbors=3)\n",
        "lr = LogisticRegression(multi_class='multinomial', solver = 'newton-cg')\n",
        "svc = SVC(kernel = 'linear', C = 1)\n",
        "dtc = DecisionTreeClassifier(max_depth = 2)\n",
        "rtc = RandomForestClassifier(n_estimators=100)\n",
        "\n",
        "classifier = [knn,lr,svc,dtc,rtc]"
      ],
      "execution_count": null,
      "outputs": []
    },
    {
      "cell_type": "markdown",
      "metadata": {
        "id": "4SsvzuJxZ05c",
        "colab_type": "text"
      },
      "source": [
        "#Training the classifier"
      ]
    },
    {
      "cell_type": "markdown",
      "metadata": {
        "id": "xoLZW7HUd7oz",
        "colab_type": "text"
      },
      "source": [
        "1.KNN"
      ]
    },
    {
      "cell_type": "code",
      "metadata": {
        "id": "IGVa7ZWhZ6Cr",
        "colab_type": "code",
        "colab": {
          "base_uri": "https://localhost:8080/",
          "height": 68
        },
        "outputId": "24d6ad8d-6a8f-4927-90c7-3dfd450c9959"
      },
      "source": [
        "#f_knn.fit(fruits_X_train,fruits_y_train)"
      ],
      "execution_count": null,
      "outputs": [
        {
          "output_type": "execute_result",
          "data": {
            "text/plain": [
              "KNeighborsClassifier(algorithm='auto', leaf_size=30, metric='minkowski',\n",
              "                     metric_params=None, n_jobs=None, n_neighbors=3, p=2,\n",
              "                     weights='uniform')"
            ]
          },
          "metadata": {
            "tags": []
          },
          "execution_count": 90
        }
      ]
    },
    {
      "cell_type": "code",
      "metadata": {
        "id": "__e3cPjpuhWe",
        "colab_type": "code",
        "colab": {
          "base_uri": "https://localhost:8080/",
          "height": 68
        },
        "outputId": "2974cc8a-6320-4b93-b434-5119c9c44727"
      },
      "source": [
        "#b_knn.fit(banks_X_train,banks_y_train)"
      ],
      "execution_count": null,
      "outputs": [
        {
          "output_type": "execute_result",
          "data": {
            "text/plain": [
              "KNeighborsClassifier(algorithm='auto', leaf_size=30, metric='minkowski',\n",
              "                     metric_params=None, n_jobs=None, n_neighbors=3, p=2,\n",
              "                     weights='uniform')"
            ]
          },
          "metadata": {
            "tags": []
          },
          "execution_count": 108
        }
      ]
    },
    {
      "cell_type": "code",
      "metadata": {
        "id": "pvUrhqhz6der",
        "colab_type": "code",
        "colab": {
          "base_uri": "https://localhost:8080/",
          "height": 68
        },
        "outputId": "4299e1f3-9db2-4ead-e18f-097b272ee223"
      },
      "source": [
        "#z_knn.fit(zoo_X_train,zoo_y_train)"
      ],
      "execution_count": null,
      "outputs": [
        {
          "output_type": "execute_result",
          "data": {
            "text/plain": [
              "KNeighborsClassifier(algorithm='auto', leaf_size=30, metric='minkowski',\n",
              "                     metric_params=None, n_jobs=None, n_neighbors=3, p=2,\n",
              "                     weights='uniform')"
            ]
          },
          "metadata": {
            "tags": []
          },
          "execution_count": 107
        }
      ]
    },
    {
      "cell_type": "code",
      "metadata": {
        "id": "d1Qdr-8WqrXt",
        "colab_type": "code",
        "colab": {
          "base_uri": "https://localhost:8080/",
          "height": 68
        },
        "outputId": "a9312f9e-361d-4bcd-d06e-9a9b8aec276f"
      },
      "source": [
        "#a_knn.fit(abalone_X_train,abalone_y_train)"
      ],
      "execution_count": null,
      "outputs": [
        {
          "output_type": "execute_result",
          "data": {
            "text/plain": [
              "KNeighborsClassifier(algorithm='auto', leaf_size=30, metric='minkowski',\n",
              "                     metric_params=None, n_jobs=None, n_neighbors=12, p=2,\n",
              "                     weights='uniform')"
            ]
          },
          "metadata": {
            "tags": []
          },
          "execution_count": 109
        }
      ]
    },
    {
      "cell_type": "code",
      "metadata": {
        "id": "WV-COHAL7HF5",
        "colab_type": "code",
        "colab": {
          "base_uri": "https://localhost:8080/",
          "height": 68
        },
        "outputId": "7416d040-3f6e-4233-9eb5-cd47501fb12c"
      },
      "source": [
        "#s_knn.fit(seed_X_train,seed_y_train)"
      ],
      "execution_count": null,
      "outputs": [
        {
          "output_type": "execute_result",
          "data": {
            "text/plain": [
              "KNeighborsClassifier(algorithm='auto', leaf_size=30, metric='minkowski',\n",
              "                     metric_params=None, n_jobs=None, n_neighbors=5, p=2,\n",
              "                     weights='uniform')"
            ]
          },
          "metadata": {
            "tags": []
          },
          "execution_count": 11
        }
      ]
    },
    {
      "cell_type": "markdown",
      "metadata": {
        "id": "WCK0pF-_d-2_",
        "colab_type": "text"
      },
      "source": [
        "2.Logistic Regression"
      ]
    },
    {
      "cell_type": "code",
      "metadata": {
        "id": "R1mBoaPKeErm",
        "colab_type": "code",
        "colab": {
          "base_uri": "https://localhost:8080/",
          "height": 102
        },
        "outputId": "a491b528-fb78-4673-e703-4672afe07afd"
      },
      "source": [
        "#f_lr.fit(fruits_X_train, fruits_y_train)"
      ],
      "execution_count": null,
      "outputs": [
        {
          "output_type": "execute_result",
          "data": {
            "text/plain": [
              "LogisticRegression(C=1.0, class_weight=None, dual=False, fit_intercept=True,\n",
              "                   intercept_scaling=1, l1_ratio=None, max_iter=100,\n",
              "                   multi_class='multinomial', n_jobs=None, penalty='l2',\n",
              "                   random_state=None, solver='newton-cg', tol=0.0001, verbose=0,\n",
              "                   warm_start=False)"
            ]
          },
          "metadata": {
            "tags": []
          },
          "execution_count": 12
        }
      ]
    },
    {
      "cell_type": "code",
      "metadata": {
        "id": "jxwv8CCDfHUf",
        "colab_type": "code",
        "colab": {
          "base_uri": "https://localhost:8080/",
          "height": 102
        },
        "outputId": "fdad0f7d-a8a8-4082-e38f-31ecf5708fa9"
      },
      "source": [
        "#b_lr.fit(banks_X_train, banks_y_train)"
      ],
      "execution_count": null,
      "outputs": [
        {
          "output_type": "execute_result",
          "data": {
            "text/plain": [
              "LogisticRegression(C=1.0, class_weight=None, dual=False, fit_intercept=True,\n",
              "                   intercept_scaling=1, l1_ratio=None, max_iter=100,\n",
              "                   multi_class='auto', n_jobs=None, penalty='l2',\n",
              "                   random_state=None, solver='lbfgs', tol=0.0001, verbose=0,\n",
              "                   warm_start=False)"
            ]
          },
          "metadata": {
            "tags": []
          },
          "execution_count": 17
        }
      ]
    },
    {
      "cell_type": "code",
      "metadata": {
        "id": "k_E8hUs7fv7v",
        "colab_type": "code",
        "colab": {
          "base_uri": "https://localhost:8080/",
          "height": 102
        },
        "outputId": "2929f607-eb97-4bd9-b584-7472206c2614"
      },
      "source": [
        "#z_lr.fit(zoo_X_train, zoo_y_train)"
      ],
      "execution_count": null,
      "outputs": [
        {
          "output_type": "execute_result",
          "data": {
            "text/plain": [
              "LogisticRegression(C=1.0, class_weight=None, dual=False, fit_intercept=True,\n",
              "                   intercept_scaling=1, l1_ratio=None, max_iter=100,\n",
              "                   multi_class='multinomial', n_jobs=None, penalty='l2',\n",
              "                   random_state=None, solver='newton-cg', tol=0.0001, verbose=0,\n",
              "                   warm_start=False)"
            ]
          },
          "metadata": {
            "tags": []
          },
          "execution_count": 21
        }
      ]
    },
    {
      "cell_type": "code",
      "metadata": {
        "id": "cTDXy5YhgHjU",
        "colab_type": "code",
        "colab": {
          "base_uri": "https://localhost:8080/",
          "height": 102
        },
        "outputId": "1389ee5d-9208-4441-c1d1-24d2bcb26e83"
      },
      "source": [
        "#a_lr.fit(abalone_X_train,abalone_y_train)"
      ],
      "execution_count": null,
      "outputs": [
        {
          "output_type": "execute_result",
          "data": {
            "text/plain": [
              "LogisticRegression(C=1.0, class_weight=None, dual=False, fit_intercept=True,\n",
              "                   intercept_scaling=1, l1_ratio=None, max_iter=100,\n",
              "                   multi_class='multinomial', n_jobs=None, penalty='l2',\n",
              "                   random_state=None, solver='newton-cg', tol=0.0001, verbose=0,\n",
              "                   warm_start=False)"
            ]
          },
          "metadata": {
            "tags": []
          },
          "execution_count": 22
        }
      ]
    },
    {
      "cell_type": "code",
      "metadata": {
        "id": "pyIBgsCPgPJ7",
        "colab_type": "code",
        "colab": {
          "base_uri": "https://localhost:8080/",
          "height": 102
        },
        "outputId": "09538b1f-dcbe-47e5-f954-fa978517aec2"
      },
      "source": [
        "#s_lr.fit(seed_X_tarin,seed_y_train)"
      ],
      "execution_count": null,
      "outputs": [
        {
          "output_type": "execute_result",
          "data": {
            "text/plain": [
              "LogisticRegression(C=1.0, class_weight=None, dual=False, fit_intercept=True,\n",
              "                   intercept_scaling=1, l1_ratio=None, max_iter=100,\n",
              "                   multi_class='multinomial', n_jobs=None, penalty='l2',\n",
              "                   random_state=None, solver='newton-cg', tol=0.0001, verbose=0,\n",
              "                   warm_start=False)"
            ]
          },
          "metadata": {
            "tags": []
          },
          "execution_count": 23
        }
      ]
    },
    {
      "cell_type": "markdown",
      "metadata": {
        "id": "pq-xZFKil4oE",
        "colab_type": "text"
      },
      "source": [
        "3.Support Vector Machine"
      ]
    },
    {
      "cell_type": "code",
      "metadata": {
        "id": "4lmungsZlwFb",
        "colab_type": "code",
        "colab": {
          "base_uri": "https://localhost:8080/",
          "height": 85
        },
        "outputId": "3fa4b639-1b26-49a5-b425-3682b0444adf"
      },
      "source": [
        "#f_svc.fit(fruits_X_train, fruits_y_train)"
      ],
      "execution_count": null,
      "outputs": [
        {
          "output_type": "execute_result",
          "data": {
            "text/plain": [
              "SVC(C=1, break_ties=False, cache_size=200, class_weight=None, coef0=0.0,\n",
              "    decision_function_shape='ovr', degree=3, gamma='scale', kernel='linear',\n",
              "    max_iter=-1, probability=False, random_state=None, shrinking=True,\n",
              "    tol=0.001, verbose=False)"
            ]
          },
          "metadata": {
            "tags": []
          },
          "execution_count": 32
        }
      ]
    },
    {
      "cell_type": "code",
      "metadata": {
        "id": "h3wUpA8VmUAD",
        "colab_type": "code",
        "colab": {
          "base_uri": "https://localhost:8080/",
          "height": 85
        },
        "outputId": "73f540ba-7015-4cc4-d503-cb33d1dfa90a"
      },
      "source": [
        "#b_svc.fit(banks_X_train, banks_y_train)"
      ],
      "execution_count": null,
      "outputs": [
        {
          "output_type": "execute_result",
          "data": {
            "text/plain": [
              "SVC(C=1, break_ties=False, cache_size=200, class_weight=None, coef0=0.0,\n",
              "    decision_function_shape='ovr', degree=3, gamma='scale', kernel='linear',\n",
              "    max_iter=-1, probability=False, random_state=None, shrinking=True,\n",
              "    tol=0.001, verbose=False)"
            ]
          },
          "metadata": {
            "tags": []
          },
          "execution_count": 33
        }
      ]
    },
    {
      "cell_type": "code",
      "metadata": {
        "id": "2IEgBhYcmdhQ",
        "colab_type": "code",
        "colab": {
          "base_uri": "https://localhost:8080/",
          "height": 85
        },
        "outputId": "a5436cfa-89ac-4129-e2d8-b6fa43ba6786"
      },
      "source": [
        "#z_svc.fit(zoo_X_train, zoo_y_train)"
      ],
      "execution_count": null,
      "outputs": [
        {
          "output_type": "execute_result",
          "data": {
            "text/plain": [
              "SVC(C=1, break_ties=False, cache_size=200, class_weight=None, coef0=0.0,\n",
              "    decision_function_shape='ovr', degree=3, gamma='scale', kernel='linear',\n",
              "    max_iter=-1, probability=False, random_state=None, shrinking=True,\n",
              "    tol=0.001, verbose=False)"
            ]
          },
          "metadata": {
            "tags": []
          },
          "execution_count": 34
        }
      ]
    },
    {
      "cell_type": "code",
      "metadata": {
        "id": "LeJXorOrmm4K",
        "colab_type": "code",
        "colab": {
          "base_uri": "https://localhost:8080/",
          "height": 85
        },
        "outputId": "785476cb-0cfc-4c1d-fc0a-4f764dc4c4b9"
      },
      "source": [
        "#a_svc.fit(abalone_X_train,abalone_y_train)"
      ],
      "execution_count": null,
      "outputs": [
        {
          "output_type": "execute_result",
          "data": {
            "text/plain": [
              "SVC(C=1, break_ties=False, cache_size=200, class_weight=None, coef0=0.0,\n",
              "    decision_function_shape='ovr', degree=3, gamma='scale', kernel='linear',\n",
              "    max_iter=-1, probability=False, random_state=None, shrinking=True,\n",
              "    tol=0.001, verbose=False)"
            ]
          },
          "metadata": {
            "tags": []
          },
          "execution_count": 37
        }
      ]
    },
    {
      "cell_type": "code",
      "metadata": {
        "id": "kuZwzSUhmwi0",
        "colab_type": "code",
        "colab": {
          "base_uri": "https://localhost:8080/",
          "height": 85
        },
        "outputId": "e0e9218e-3d13-4ae3-ea70-8022bf1a1f43"
      },
      "source": [
        "#s_svc.fit(seed_X_train,seed_y_train)"
      ],
      "execution_count": null,
      "outputs": [
        {
          "output_type": "execute_result",
          "data": {
            "text/plain": [
              "SVC(C=1, break_ties=False, cache_size=200, class_weight=None, coef0=0.0,\n",
              "    decision_function_shape='ovr', degree=3, gamma='scale', kernel='linear',\n",
              "    max_iter=-1, probability=False, random_state=None, shrinking=True,\n",
              "    tol=0.001, verbose=False)"
            ]
          },
          "metadata": {
            "tags": []
          },
          "execution_count": 38
        }
      ]
    },
    {
      "cell_type": "markdown",
      "metadata": {
        "id": "2koHBf1noiw8",
        "colab_type": "text"
      },
      "source": [
        "4.Decision Tree"
      ]
    },
    {
      "cell_type": "code",
      "metadata": {
        "id": "DM96tLlconUi",
        "colab_type": "code",
        "colab": {
          "base_uri": "https://localhost:8080/",
          "height": 119
        },
        "outputId": "8c40a423-dd6a-40f6-ff1e-e9536e3cd725"
      },
      "source": [
        "'''f_dtc.fit(fruits_X_train,fruits_y_train)\n",
        "b_dtc.fit(banks_X_train,banks_y_train)\n",
        "z_dtc.fit(zoo_X_train,zoo_y_train)\n",
        "a_dtc.fit(abalone_X_train,abalone_y_train)\n",
        "s_dtc.fit(seed_X_tarin,seed_y_train)'''"
      ],
      "execution_count": null,
      "outputs": [
        {
          "output_type": "execute_result",
          "data": {
            "text/plain": [
              "DecisionTreeClassifier(ccp_alpha=0.0, class_weight=None, criterion='gini',\n",
              "                       max_depth=2, max_features=None, max_leaf_nodes=None,\n",
              "                       min_impurity_decrease=0.0, min_impurity_split=None,\n",
              "                       min_samples_leaf=1, min_samples_split=2,\n",
              "                       min_weight_fraction_leaf=0.0, presort='deprecated',\n",
              "                       random_state=None, splitter='best')"
            ]
          },
          "metadata": {
            "tags": []
          },
          "execution_count": 49
        }
      ]
    },
    {
      "cell_type": "markdown",
      "metadata": {
        "id": "Ijic6cOYtLzn",
        "colab_type": "text"
      },
      "source": [
        "5.Random Forest "
      ]
    },
    {
      "cell_type": "code",
      "metadata": {
        "id": "WUM12hAGtRS4",
        "colab_type": "code",
        "colab": {
          "base_uri": "https://localhost:8080/",
          "height": 153
        },
        "outputId": "5dae0ae6-9a4a-4d29-ea4f-2612c79ef876"
      },
      "source": [
        "'''f_rtc.fit(fruits_X_train,fruits_y_train)\n",
        "b_rtc.fit(banks_X_train,banks_y_train)\n",
        "z_rtc.fit(zoo_X_train,zoo_y_train)\n",
        "a_rtc.fit(abalone_X_train,abalone_y_train)\n",
        "s_rtc.fit(seed_X_tarin,seed_y_train)'''"
      ],
      "execution_count": null,
      "outputs": [
        {
          "output_type": "execute_result",
          "data": {
            "text/plain": [
              "RandomForestClassifier(bootstrap=True, ccp_alpha=0.0, class_weight=None,\n",
              "                       criterion='gini', max_depth=None, max_features='auto',\n",
              "                       max_leaf_nodes=None, max_samples=None,\n",
              "                       min_impurity_decrease=0.0, min_impurity_split=None,\n",
              "                       min_samples_leaf=1, min_samples_split=2,\n",
              "                       min_weight_fraction_leaf=0.0, n_estimators=100,\n",
              "                       n_jobs=None, oob_score=False, random_state=None,\n",
              "                       verbose=0, warm_start=False)"
            ]
          },
          "metadata": {
            "tags": []
          },
          "execution_count": 57
        }
      ]
    },
    {
      "cell_type": "markdown",
      "metadata": {
        "id": "GhaSaT6fae5I",
        "colab_type": "text"
      },
      "source": [
        "#Accuracy of classifier using test set"
      ]
    },
    {
      "cell_type": "code",
      "metadata": {
        "id": "guRfI3PQaqlE",
        "colab_type": "code",
        "colab": {
          "base_uri": "https://localhost:8080/",
          "height": 34
        },
        "outputId": "98af6a65-5038-413d-ce9b-fcb450020e66"
      },
      "source": [
        "#f_knn.score(fruits_X_test,fruits_y_test)"
      ],
      "execution_count": null,
      "outputs": [
        {
          "output_type": "execute_result",
          "data": {
            "text/plain": [
              "0.5333333333333333"
            ]
          },
          "metadata": {
            "tags": []
          },
          "execution_count": 99
        }
      ]
    },
    {
      "cell_type": "code",
      "metadata": {
        "id": "SqMBEe9WeUMk",
        "colab_type": "code",
        "colab": {
          "base_uri": "https://localhost:8080/",
          "height": 34
        },
        "outputId": "1546c91d-76fe-4542-92ef-07151279fc0b"
      },
      "source": [
        "#f_lr.score(fruits_X_test, fruits_y_test)"
      ],
      "execution_count": null,
      "outputs": [
        {
          "output_type": "execute_result",
          "data": {
            "text/plain": [
              "0.4666666666666667"
            ]
          },
          "metadata": {
            "tags": []
          },
          "execution_count": 13
        }
      ]
    },
    {
      "cell_type": "code",
      "metadata": {
        "id": "zvBXM-OinJZc",
        "colab_type": "code",
        "colab": {
          "base_uri": "https://localhost:8080/",
          "height": 34
        },
        "outputId": "5356fdd5-2c84-4f67-8c51-629bc682e8ee"
      },
      "source": [
        "#f_svc.score(fruits_X_test, fruits_y_test)"
      ],
      "execution_count": null,
      "outputs": [
        {
          "output_type": "execute_result",
          "data": {
            "text/plain": [
              "0.6"
            ]
          },
          "metadata": {
            "tags": []
          },
          "execution_count": 39
        }
      ]
    },
    {
      "cell_type": "code",
      "metadata": {
        "id": "EH9i3xhapfvC",
        "colab_type": "code",
        "colab": {
          "base_uri": "https://localhost:8080/",
          "height": 34
        },
        "outputId": "5e3a8beb-eb76-40dc-89a7-9c2ccd9dd7ed"
      },
      "source": [
        "#f_dtc.score(fruits_X_test, fruits_y_test)"
      ],
      "execution_count": null,
      "outputs": [
        {
          "output_type": "execute_result",
          "data": {
            "text/plain": [
              "0.6666666666666666"
            ]
          },
          "metadata": {
            "tags": []
          },
          "execution_count": 50
        }
      ]
    },
    {
      "cell_type": "code",
      "metadata": {
        "id": "Xm97-SGduPPM",
        "colab_type": "code",
        "colab": {
          "base_uri": "https://localhost:8080/",
          "height": 34
        },
        "outputId": "3a563061-141a-45ea-ceb8-1dc4bb00684e"
      },
      "source": [
        "#f_rtc.score(fruits_X_test, fruits_y_test)"
      ],
      "execution_count": null,
      "outputs": [
        {
          "output_type": "execute_result",
          "data": {
            "text/plain": [
              "0.8666666666666667"
            ]
          },
          "metadata": {
            "tags": []
          },
          "execution_count": 59
        }
      ]
    },
    {
      "cell_type": "code",
      "metadata": {
        "id": "jyQraxpYuqIe",
        "colab_type": "code",
        "colab": {
          "base_uri": "https://localhost:8080/",
          "height": 34
        },
        "outputId": "045ccc7e-91f7-4aa5-893c-619650dd132e"
      },
      "source": [
        "#b_knn.score(banks_X_test,banks_y_test)"
      ],
      "execution_count": null,
      "outputs": [
        {
          "output_type": "execute_result",
          "data": {
            "text/plain": [
              "1.0"
            ]
          },
          "metadata": {
            "tags": []
          },
          "execution_count": 110
        }
      ]
    },
    {
      "cell_type": "code",
      "metadata": {
        "id": "kwidqtPOfUyY",
        "colab_type": "code",
        "colab": {
          "base_uri": "https://localhost:8080/",
          "height": 34
        },
        "outputId": "e0338442-0fde-4440-81a5-6e32bb4408ec"
      },
      "source": [
        "#b_lr.score(banks_X_test,banks_y_test)"
      ],
      "execution_count": null,
      "outputs": [
        {
          "output_type": "execute_result",
          "data": {
            "text/plain": [
              "0.9854227405247813"
            ]
          },
          "metadata": {
            "tags": []
          },
          "execution_count": 19
        }
      ]
    },
    {
      "cell_type": "code",
      "metadata": {
        "id": "VAl9yWpMnOe5",
        "colab_type": "code",
        "colab": {
          "base_uri": "https://localhost:8080/",
          "height": 34
        },
        "outputId": "f0181918-46aa-4710-9f0f-88bb5486652f"
      },
      "source": [
        "#b_svc.score(banks_X_test,banks_y_test)"
      ],
      "execution_count": null,
      "outputs": [
        {
          "output_type": "execute_result",
          "data": {
            "text/plain": [
              "0.9854227405247813"
            ]
          },
          "metadata": {
            "tags": []
          },
          "execution_count": 41
        }
      ]
    },
    {
      "cell_type": "code",
      "metadata": {
        "id": "_swBu5YFpnfu",
        "colab_type": "code",
        "colab": {
          "base_uri": "https://localhost:8080/",
          "height": 34
        },
        "outputId": "33f81fd1-0c9c-46cf-a99c-9d4cd1151559"
      },
      "source": [
        "#b_dtc.score(banks_X_test,banks_y_test)"
      ],
      "execution_count": null,
      "outputs": [
        {
          "output_type": "execute_result",
          "data": {
            "text/plain": [
              "0.9154518950437318"
            ]
          },
          "metadata": {
            "tags": []
          },
          "execution_count": 51
        }
      ]
    },
    {
      "cell_type": "code",
      "metadata": {
        "id": "kkfPZjry6pmu",
        "colab_type": "code",
        "colab": {
          "base_uri": "https://localhost:8080/",
          "height": 34
        },
        "outputId": "fd9fb66b-6933-4f94-9224-fd594a670002"
      },
      "source": [
        "#z_knn.score(zoo_X_test,zoo_y_test)"
      ],
      "execution_count": null,
      "outputs": [
        {
          "output_type": "execute_result",
          "data": {
            "text/plain": [
              "1.0"
            ]
          },
          "metadata": {
            "tags": []
          },
          "execution_count": 111
        }
      ]
    },
    {
      "cell_type": "code",
      "metadata": {
        "id": "SeuUYsk_gaDo",
        "colab_type": "code",
        "colab": {
          "base_uri": "https://localhost:8080/",
          "height": 34
        },
        "outputId": "4f769fc7-7b3e-4d6b-9c4f-ba1f6b330074"
      },
      "source": [
        "#z_lr.score(zoo_X_test,zoo_y_test)"
      ],
      "execution_count": null,
      "outputs": [
        {
          "output_type": "execute_result",
          "data": {
            "text/plain": [
              "1.0"
            ]
          },
          "metadata": {
            "tags": []
          },
          "execution_count": 24
        }
      ]
    },
    {
      "cell_type": "code",
      "metadata": {
        "id": "QyVoSyivnWLL",
        "colab_type": "code",
        "colab": {
          "base_uri": "https://localhost:8080/",
          "height": 34
        },
        "outputId": "eed15c6b-a40d-41a8-fb43-e001773ee971"
      },
      "source": [
        "#z_svc.score(zoo_X_test,zoo_y_test)"
      ],
      "execution_count": null,
      "outputs": [
        {
          "output_type": "execute_result",
          "data": {
            "text/plain": [
              "1.0"
            ]
          },
          "metadata": {
            "tags": []
          },
          "execution_count": 43
        }
      ]
    },
    {
      "cell_type": "code",
      "metadata": {
        "id": "q8OdW3JTptpI",
        "colab_type": "code",
        "colab": {
          "base_uri": "https://localhost:8080/",
          "height": 34
        },
        "outputId": "cf830bc3-416e-452a-beb0-eec5998ca148"
      },
      "source": [
        "#z_dtc.score(zoo_X_test,zoo_y_test)"
      ],
      "execution_count": null,
      "outputs": [
        {
          "output_type": "execute_result",
          "data": {
            "text/plain": [
              "0.7692307692307693"
            ]
          },
          "metadata": {
            "tags": []
          },
          "execution_count": 52
        }
      ]
    },
    {
      "cell_type": "code",
      "metadata": {
        "id": "z8OK1-O7q0QE",
        "colab_type": "code",
        "colab": {
          "base_uri": "https://localhost:8080/",
          "height": 34
        },
        "outputId": "f81d48a2-66ae-4d45-a038-9f37e85154fd"
      },
      "source": [
        "#a_knn.score(abalone_X_test,abalone_y_test)"
      ],
      "execution_count": null,
      "outputs": [
        {
          "output_type": "execute_result",
          "data": {
            "text/plain": [
              "0.24210526315789474"
            ]
          },
          "metadata": {
            "tags": []
          },
          "execution_count": 112
        }
      ]
    },
    {
      "cell_type": "code",
      "metadata": {
        "id": "Q_MGV2QAghXP",
        "colab_type": "code",
        "colab": {
          "base_uri": "https://localhost:8080/",
          "height": 34
        },
        "outputId": "c56d7a55-cdc4-484c-fc1f-fead8288d833"
      },
      "source": [
        "#a_lr.score(abalone_X_test,abalone_y_test)"
      ],
      "execution_count": null,
      "outputs": [
        {
          "output_type": "execute_result",
          "data": {
            "text/plain": [
              "0.24688995215311005"
            ]
          },
          "metadata": {
            "tags": []
          },
          "execution_count": 27
        }
      ]
    },
    {
      "cell_type": "code",
      "metadata": {
        "id": "231-UQB-ng16",
        "colab_type": "code",
        "colab": {
          "base_uri": "https://localhost:8080/",
          "height": 34
        },
        "outputId": "6e427c40-3019-49f9-980b-f82a55f8bef3"
      },
      "source": [
        "#a_svc.score(abalone_X_test,abalone_y_test)"
      ],
      "execution_count": null,
      "outputs": [
        {
          "output_type": "execute_result",
          "data": {
            "text/plain": [
              "0.2660287081339713"
            ]
          },
          "metadata": {
            "tags": []
          },
          "execution_count": 44
        }
      ]
    },
    {
      "cell_type": "code",
      "metadata": {
        "id": "vX6ztA3sp16t",
        "colab_type": "code",
        "colab": {
          "base_uri": "https://localhost:8080/",
          "height": 34
        },
        "outputId": "db7340b4-d69f-4c62-ded2-3ef5aeca727b"
      },
      "source": [
        "#a_dtc.score(abalone_X_test,abalone_y_test)"
      ],
      "execution_count": null,
      "outputs": [
        {
          "output_type": "execute_result",
          "data": {
            "text/plain": [
              "0.24880382775119617"
            ]
          },
          "metadata": {
            "tags": []
          },
          "execution_count": 53
        }
      ]
    },
    {
      "cell_type": "code",
      "metadata": {
        "id": "oKZQnxm97Rj7",
        "colab_type": "code",
        "colab": {
          "base_uri": "https://localhost:8080/",
          "height": 34
        },
        "outputId": "ce2f868b-cd1c-4868-9bf1-a31d98cd6f81"
      },
      "source": [
        "#s_knn.score(seed_X_test,seed_y_test)"
      ],
      "execution_count": null,
      "outputs": [
        {
          "output_type": "execute_result",
          "data": {
            "text/plain": [
              "0.96"
            ]
          },
          "metadata": {
            "tags": []
          },
          "execution_count": 14
        }
      ]
    },
    {
      "cell_type": "code",
      "metadata": {
        "id": "XqG7VyisgouL",
        "colab_type": "code",
        "colab": {
          "base_uri": "https://localhost:8080/",
          "height": 34
        },
        "outputId": "cd6012e4-9225-493f-cbec-4a0e651c797d"
      },
      "source": [
        "#s_lr.score(seed_X_test,seed_y_test)"
      ],
      "execution_count": null,
      "outputs": [
        {
          "output_type": "execute_result",
          "data": {
            "text/plain": [
              "0.94"
            ]
          },
          "metadata": {
            "tags": []
          },
          "execution_count": 28
        }
      ]
    },
    {
      "cell_type": "code",
      "metadata": {
        "id": "I1QVPMCInlha",
        "colab_type": "code",
        "colab": {
          "base_uri": "https://localhost:8080/",
          "height": 34
        },
        "outputId": "96549cf8-6b10-46d1-fa30-e6150b168716"
      },
      "source": [
        "#s_svc.score(seed_X_test,seed_y_test)"
      ],
      "execution_count": null,
      "outputs": [
        {
          "output_type": "execute_result",
          "data": {
            "text/plain": [
              "0.94"
            ]
          },
          "metadata": {
            "tags": []
          },
          "execution_count": 47
        }
      ]
    },
    {
      "cell_type": "code",
      "metadata": {
        "id": "-FMNV956qCFa",
        "colab_type": "code",
        "colab": {
          "base_uri": "https://localhost:8080/",
          "height": 34
        },
        "outputId": "44fd1161-2946-4df1-a63c-5ee9bf17cf0b"
      },
      "source": [
        "#s_dtc.score(seed_X_test,seed_y_test)"
      ],
      "execution_count": null,
      "outputs": [
        {
          "output_type": "execute_result",
          "data": {
            "text/plain": [
              "0.88"
            ]
          },
          "metadata": {
            "tags": []
          },
          "execution_count": 54
        }
      ]
    },
    {
      "cell_type": "markdown",
      "metadata": {
        "id": "VIK_f0cGb4tj",
        "colab_type": "text"
      },
      "source": [
        "#How sensitive is k-NN classification accuracy to the choice of the 'k' parameter?"
      ]
    },
    {
      "cell_type": "code",
      "metadata": {
        "id": "I0Ab3To8b6fu",
        "colab_type": "code",
        "colab": {}
      },
      "source": [
        "'''k_range = range(1,50)\n",
        "scores = []\n",
        "for k in k_range:\n",
        "    knn = KNeighborsClassifier(n_neighbors=k)\n",
        "    knn.fit(seed_X_tarin, seed_y_train)\n",
        "    scores.append(knn.score(seed_X_test,seed_y_test)*100)\n",
        "\n",
        "plt.figure()\n",
        "plt.xlabel('k')\n",
        "plt.ylabel('accuracy')\n",
        "plt.scatter(k_range, scores)\n",
        "plt.xticks([int(x) for x in range(0,51,5)])'''"
      ],
      "execution_count": null,
      "outputs": []
    },
    {
      "cell_type": "markdown",
      "metadata": {
        "id": "fHF96LPNSbdI",
        "colab_type": "text"
      },
      "source": [
        "#Evaluation matrix"
      ]
    },
    {
      "cell_type": "code",
      "metadata": {
        "id": "XGqHlviVSWVO",
        "colab_type": "code",
        "colab": {
          "base_uri": "https://localhost:8080/",
          "height": 697
        },
        "outputId": "53b324b3-5966-43d2-ac0b-d6a023cb3f34"
      },
      "source": [
        "from sklearn import metrics\n",
        "d_name = [\"FRUIT DATA SET\",\"BANK DATA SET\",\"ZOO DATA SET\",\"ABALONE DATA SET\",\"SEED DATA SET\"]\n",
        "c_name = ['KNN  ','LRC  ','SVM  ','DTC  ','RFC  ']\n",
        "\n",
        "with open(\"TASK_2.txt\",\"w\") as ouf:\n",
        "    for d,i in zip(d_name,data_set):\n",
        "        print(d)\n",
        "        ouf.write(d+\"\\n\")\n",
        "        print(\"Name   accu    prec   reca  f1_sc  \")\n",
        "        ouf.write(\"Name   accu    prec   reca  f1_sc  \"+\"\\n\")\n",
        "        for n,j in zip(c_name,classifier):\n",
        "            #s1=i[0].shapecut\n",
        "            #s2=i[1].shapecut\n",
        "            #print(s1,s2)cut\n",
        "            j.fit(i[0],i[2])\n",
        "            y_pred = j.predict(i[1])\n",
        "            acc = metrics.accuracy_score(i[3],y_pred)\n",
        "            pre = metrics.precision_score(i[3],y_pred,average = 'macro', zero_division=1)\n",
        "            rec = metrics.recall_score(i[3],y_pred, average = 'macro',zero_division=1)\n",
        "            f1 = metrics.f1_score(i[3],y_pred, average = 'macro', zero_division=1)\n",
        "            print(n,end=' ')\n",
        "            ouf.write(str(n)+\" \")\n",
        "            print('%.4f'%acc, '%.4f'%pre, '%.4f'%rec, '%.4f'%f1)\n",
        "            ouf.write(str('%.4f'%acc)+\" \" +str('%.4f'%pre)+\" \"+ str('%.4f'%rec)+\" \" + str('%.4f'%f1)+\"\\n\")\n",
        "            #print(pre)cut\n",
        "        print(\"---------------\")\n",
        "        ouf.write(\"---------------\"+\"\\n\")\n"
      ],
      "execution_count": null,
      "outputs": [
        {
          "output_type": "stream",
          "text": [
            "FRUIT DATA SET\n",
            "Name   accu    prec   reca  f1_sc  \n",
            "KNN   0.5333 0.6250 0.6562 0.6083\n",
            "LRC   0.4667 0.6875 0.6875 0.6667\n",
            "SVM   0.6000 0.8500 0.8125 0.7429\n",
            "DTC   0.6667 0.7841 0.5312 0.5175\n",
            "RFC   0.8667 0.8667 0.9375 0.8865\n",
            "---------------\n",
            "BANK DATA SET\n",
            "Name   accu    prec   reca  f1_sc  \n",
            "KNN   1.0000 1.0000 1.0000 1.0000\n",
            "LRC   0.9854 0.9837 0.9872 0.9852\n",
            "SVM   0.9854 0.9837 0.9872 0.9852\n",
            "DTC   0.9155 0.9164 0.9110 0.9133\n",
            "RFC   0.9913 0.9907 0.9915 0.9911\n",
            "---------------\n",
            "ZOO DATA SET\n",
            "Name   accu    prec   reca  f1_sc  \n",
            "KNN   1.0000 1.0000 1.0000 1.0000\n",
            "LRC   1.0000 1.0000 1.0000 1.0000\n",
            "SVM   1.0000 1.0000 1.0000 1.0000\n",
            "DTC   0.7692 0.9221 0.4286 0.3750\n",
            "RFC   1.0000 1.0000 1.0000 1.0000\n",
            "---------------\n",
            "ABALONE DATA SET\n",
            "Name   accu    prec   reca  f1_sc  \n",
            "KNN   0.2115 0.4237 0.1120 0.1037\n",
            "LRC   0.2469 0.7278 0.0899 0.0752\n",
            "SVM   0.2660 0.8071 0.1016 0.0799\n",
            "DTC   0.2488 0.8762 0.1061 0.0675\n",
            "RFC   0.2364 0.4126 0.1620 0.1163\n",
            "---------------\n",
            "SEED DATA SET\n",
            "Name   accu    prec   reca  f1_sc  \n",
            "KNN   0.9400 0.9474 0.9375 0.9369\n",
            "LRC   0.9400 0.9474 0.9398 0.9397\n",
            "SVM   0.9400 0.9474 0.9398 0.9397\n",
            "DTC   0.8800 0.8867 0.8819 0.8828\n",
            "RFC   0.9200 0.9333 0.9236 0.9219\n",
            "---------------\n"
          ],
          "name": "stdout"
        }
      ]
    }
  ]
}